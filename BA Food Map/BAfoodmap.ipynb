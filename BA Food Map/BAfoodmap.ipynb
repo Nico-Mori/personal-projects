{
 "cells": [
  {
   "cell_type": "markdown",
   "metadata": {},
   "source": [
    "# Eating in Buenos Aires on a budget"
   ]
  },
  {
   "cell_type": "markdown",
   "metadata": {},
   "source": [
    "<a id='content' />\n",
    "\n",
    "## Contents\n",
    "\n",
    "1. [Web Scraping](#scraping)\n",
    "2. [Data Cleansing](#cleansing)\n",
    "3. [Mapping](#mapping)\n",
    "4. [Bonus track: currency volatility](#volatility)"
   ]
  },
  {
   "cell_type": "code",
   "execution_count": 1,
   "metadata": {},
   "outputs": [],
   "source": [
    "#Importing packages\n",
    "import pandas as pd\n",
    "import numpy as np\n",
    "import re\n",
    "import time\n",
    "\n",
    "from selenium import webdriver\n",
    "from selenium.common.exceptions import NoSuchElementException\n",
    "\n",
    "import geopy\n",
    "import folium\n",
    "from folium.plugins import MarkerCluster\n",
    "\n",
    "#from IPython.core.display import display, HTML\n",
    "#display(HTML(\"<style>.container { width:90% !important; }</style>\"))"
   ]
  },
  {
   "cell_type": "markdown",
   "metadata": {},
   "source": [
    "<a id='scraping' />\n",
    "\n",
    "## Web Scraping\n",
    "[(back to top)](#content)"
   ]
  },
  {
   "cell_type": "code",
   "execution_count": null,
   "metadata": {},
   "outputs": [],
   "source": [
    "#Load webdriver\n",
    "driver = webdriver.Chrome('/Users/nicolamori/Library/Application Support/binman_chromedriver/mac64/85.0.4183.38/chromedriver')\n",
    "\n",
    "#Open page\n",
    "driver.get('https://www.tripadvisor.com.ar/Restaurants-g312741-Buenos_Aires_Capital_Federal_District.html')\n",
    "time.sleep(5)\n",
    "\n",
    "#Filter by cheap restaurants\n",
    "driver.find_element_by_xpath('//*[@id=\"component_47\"]/div/div[6]/div[2]/div[1]/div/label/div/span').click()\n",
    "time.sleep(3)"
   ]
  },
  {
   "cell_type": "code",
   "execution_count": null,
   "metadata": {},
   "outputs": [],
   "source": [
    "%%time\n",
    "\n",
    "#Empty list\n",
    "total = []\n",
    "\n",
    "#Number of pages\n",
    "npages = int(driver.find_element_by_xpath('//*[@id=\"EATERY_LIST_CONTENTS\"]/div[2]/div/div/a[6]').text)\n",
    "\n",
    "for h in range(npages):\n",
    "    \n",
    "    #Restaurants elements\n",
    "    container = driver.find_elements_by_class_name('_15_ydu6b')\n",
    "    num_page_items = len(container)\n",
    "    \n",
    "    for i in range(num_page_items):\n",
    "        #Record original tab\n",
    "        window_before = driver.window_handles[0]\n",
    "        \n",
    "        #Open tab\n",
    "        element = container[i]\n",
    "        driver.execute_script(\"arguments[0].click();\", element)\n",
    "        \n",
    "        #Switch to new tab\n",
    "        window_after = driver.window_handles[1]\n",
    "        driver.switch_to.window(window_after)\n",
    "        time.sleep(1)\n",
    "        \n",
    "        #Extract data with covid19 section\n",
    "        try: \n",
    "            driver.find_element_by_xpath('//*[@data-tab=\"TABS_COVID19\"]')\n",
    "            \n",
    "            name = driver.find_element_by_xpath('//*[@class=\"_3a1XQ88S\"]').text\n",
    "            try:cuisines = driver.find_element_by_xpath('//*[@id=\"taplc_detail_overview_cards_0\"]/div/div[2]/div/div[2]/div/div/div[2]/div[2]/div[2]').text\n",
    "            except NoSuchElementException: cuisines = None  \n",
    "            try: rank = driver.find_element_by_xpath('//*[@class=\"_15QfMZ2L\"]').text\n",
    "            except NoSuchElementException: rank = None  \n",
    "            nreviews = driver.find_element_by_xpath('//*[@class=\"_3Wub8auF\"]').text\n",
    "            \n",
    "            address = driver.find_element_by_xpath('//*[@class=\"_2saB_OSe\"]').text\n",
    "            try:phone = driver.find_element_by_xpath('//*[@id=\"taplc_top_info_0\"]/div/div/div[3]/span[2]/span/span[2]/a').text\n",
    "            except NoSuchElementException: website = None  \n",
    "            try: website = driver.find_element_by_xpath('//*[@id=\"taplc_top_info_0\"]/div/div/div[3]/span[3]/span/a').get_attribute(\"href\")\n",
    "            except NoSuchElementException: website = None  \n",
    "            \n",
    "            try:score = driver.find_element_by_xpath('//*[@id=\"taplc_detail_overview_cards_0\"]/div/div[2]/div/div[1]/div/div[1]/div[1]/span[2]/span').get_attribute(\"class\")\n",
    "            except NoSuchElementException: score = None  \n",
    "            try:food = driver.find_element_by_xpath('//*[@id=\"taplc_detail_overview_cards_0\"]/div/div[2]/div/div[1]/div/div[3]/div[2]/div[1]/span[3]/span').get_attribute(\"class\")\n",
    "            except NoSuchElementException: food = None\n",
    "            try:service = driver.find_element_by_xpath('//*[@id=\"taplc_detail_overview_cards_0\"]/div/div[2]/div/div[1]/div/div[3]/div[2]/div[2]/span[3]/span').get_attribute(\"class\")\n",
    "            except NoSuchElementException: service = None\n",
    "            try:value = driver.find_element_by_xpath('//*[@id=\"taplc_detail_overview_cards_0\"]/div/div[2]/div/div[1]/div/div[3]/div[2]/div[3]/span[3]/span').get_attribute(\"class\")\n",
    "            except NoSuchElementException: value = None\n",
    "        \n",
    "        #Extract data without covid19 section\n",
    "        except NoSuchElementException:        \n",
    "            \n",
    "            name = driver.find_element_by_xpath('//*[@class=\"_3a1XQ88S\"]').text\n",
    "            try: cuisines = driver.find_element_by_xpath('//*[@id=\"taplc_detail_overview_cards_0\"]/div/div[1]/div/div[2]/div/div/div[2]/div[2]/div[2]').text\n",
    "            except NoSuchElementException: cuisines = None\n",
    "            try: rank = driver.find_element_by_xpath('//*[@class=\"_15QfMZ2L\"]').text\n",
    "            except NoSuchElementException: rank = None  \n",
    "            nreviews = driver.find_element_by_xpath('//*[@class=\"_3Wub8auF\"]').text\n",
    "            \n",
    "            address = driver.find_element_by_xpath('//*[@class=\"_2saB_OSe\"]').text\n",
    "            try:phone = driver.find_element_by_xpath('//*[@id=\"taplc_top_info_0\"]/div/div/div[3]/span[2]/span/span[2]/a').text\n",
    "            except NoSuchElementException: website = None  \n",
    "            try: website = driver.find_element_by_xpath('//*[@id=\"taplc_top_info_0\"]/div/div/div[3]/span[3]/span/a').get_attribute(\"href\")\n",
    "            except NoSuchElementException: website = None  \n",
    "            \n",
    "            try:score = driver.find_element_by_xpath('//*[@id=\"taplc_detail_overview_cards_0\"]/div/div[1]/div/div[1]/div/div[1]/div[1]/span[2]/span').get_attribute(\"class\")\n",
    "            except NoSuchElementException: score = None  \n",
    "            try:food = driver.find_element_by_xpath('//*[@id=\"taplc_detail_overview_cards_0\"]/div/div[1]/div/div[1]/div/div[3]/div[2]/div[1]/span[3]/span').get_attribute(\"class\")\n",
    "            except NoSuchElementException: food = None\n",
    "            try:service = driver.find_element_by_xpath('//*[@id=\"taplc_detail_overview_cards_0\"]/div/div[1]/div/div[1]/div/div[3]/div[2]/div[2]/span[3]/span').get_attribute(\"class\")\n",
    "            except NoSuchElementException: service = None\n",
    "            try:value = driver.find_element_by_xpath('//*[@id=\"taplc_detail_overview_cards_0\"]/div/div[1]/div/div[1]/div/div[3]/div[2]/div[3]/span[3]/span').get_attribute(\"class\")\n",
    "            except NoSuchElementException: value = None\n",
    "        \n",
    "        #Add data to list\n",
    "        new = ((name, cuisines, rank, nreviews, address, phone, website, score, food, service, value))\n",
    "        total.append(new)\n",
    "        \n",
    "        #Close tab and switch to main window\n",
    "        driver.close()\n",
    "        driver.switch_to.window(window_before)\n",
    "    \n",
    "    #Switch to next page\n",
    "    try:\n",
    "        if h==0: element2 = driver.find_element_by_xpath('//*[@id=\"EATERY_LIST_CONTENTS\"]/div[2]/div/a')\n",
    "        else: element2 = driver.find_element_by_xpath('//*[@id=\"EATERY_LIST_CONTENTS\"]/div[2]/div/a[2]')        \n",
    "        \n",
    "        driver.execute_script(\"arguments[0].click();\", element2)\n",
    "        time.sleep(3)\n",
    "    except NoSuchElementException: driver.close()\n",
    "\n",
    "#List to dataframe\n",
    "df = pd.DataFrame(total,columns=['name', 'cuisines', 'rank', 'nreviews', 'address', 'phone', 'website', 'score', 'food', 'service', 'value'])\n",
    "\n",
    "df.to_csv('affordable_restaurants.tsv', sep='\\t', index=False)"
   ]
  },
  {
   "cell_type": "markdown",
   "metadata": {},
   "source": [
    "<a id='cleansing' />\n",
    "\n",
    "## Data Cleansing\n",
    "[(back to top)](#content)"
   ]
  },
  {
   "cell_type": "code",
   "execution_count": 2,
   "metadata": {},
   "outputs": [
    {
     "data": {
      "text/html": [
       "<div>\n",
       "<style scoped>\n",
       "    .dataframe tbody tr th:only-of-type {\n",
       "        vertical-align: middle;\n",
       "    }\n",
       "\n",
       "    .dataframe tbody tr th {\n",
       "        vertical-align: top;\n",
       "    }\n",
       "\n",
       "    .dataframe thead th {\n",
       "        text-align: right;\n",
       "    }\n",
       "</style>\n",
       "<table border=\"1\" class=\"dataframe\">\n",
       "  <thead>\n",
       "    <tr style=\"text-align: right;\">\n",
       "      <th></th>\n",
       "      <th>name</th>\n",
       "      <th>cuisines</th>\n",
       "      <th>rank</th>\n",
       "      <th>nreviews</th>\n",
       "      <th>address</th>\n",
       "      <th>phone</th>\n",
       "      <th>website</th>\n",
       "      <th>score</th>\n",
       "      <th>food</th>\n",
       "      <th>service</th>\n",
       "      <th>value</th>\n",
       "    </tr>\n",
       "  </thead>\n",
       "  <tbody>\n",
       "    <tr>\n",
       "      <td>0</td>\n",
       "      <td>La Choripanería</td>\n",
       "      <td>Argentina, Latina, Comida rápida, Parrilla</td>\n",
       "      <td>#16 de 5.006 restaurantes en Buenos Aires</td>\n",
       "      <td>316 opiniones</td>\n",
       "      <td>Bolívar 954 Local 42, Mercado de San Telmo, Bu...</td>\n",
       "      <td>+54 11 4244-9478</td>\n",
       "      <td>https://www.facebook.com/La-Choripaner%C3%ADa-...</td>\n",
       "      <td>ui_bubble_rating bubble_45</td>\n",
       "      <td>ui_bubble_rating bubble_50</td>\n",
       "      <td>ui_bubble_rating bubble_45</td>\n",
       "      <td>ui_bubble_rating bubble_45</td>\n",
       "    </tr>\n",
       "  </tbody>\n",
       "</table>\n",
       "</div>"
      ],
      "text/plain": [
       "              name                                    cuisines  \\\n",
       "0  La Choripanería  Argentina, Latina, Comida rápida, Parrilla   \n",
       "\n",
       "                                        rank       nreviews  \\\n",
       "0  #16 de 5.006 restaurantes en Buenos Aires  316 opiniones   \n",
       "\n",
       "                                             address             phone  \\\n",
       "0  Bolívar 954 Local 42, Mercado de San Telmo, Bu...  +54 11 4244-9478   \n",
       "\n",
       "                                             website  \\\n",
       "0  https://www.facebook.com/La-Choripaner%C3%ADa-...   \n",
       "\n",
       "                        score                        food  \\\n",
       "0  ui_bubble_rating bubble_45  ui_bubble_rating bubble_50   \n",
       "\n",
       "                      service                       value  \n",
       "0  ui_bubble_rating bubble_45  ui_bubble_rating bubble_45  "
      ]
     },
     "execution_count": 2,
     "metadata": {},
     "output_type": "execute_result"
    }
   ],
   "source": [
    "restaurants=pd.read_csv('affordable_restaurants.tsv', sep='\\t', index_col=0)\n",
    "restaurants = restaurants.astype(str)\n",
    "\n",
    "restaurants.head(1)"
   ]
  },
  {
   "cell_type": "code",
   "execution_count": 3,
   "metadata": {},
   "outputs": [],
   "source": [
    "#Scoring columns\n",
    "temp=['score', 'food', 'service', 'value']\n",
    "\n",
    "for i in temp:\n",
    "    restaurants[i] = [j.replace('ui_bubble_rating bubble_','') for j in restaurants[i]]\n",
    "    restaurants[i] = pd.to_numeric(restaurants[i], errors='coerce')/10"
   ]
  },
  {
   "cell_type": "code",
   "execution_count": 4,
   "metadata": {},
   "outputs": [],
   "source": [
    "#Number of reviews\n",
    "restaurants['nreviews'] = [i.replace(' opiniones','') for i in restaurants['nreviews']]\n",
    "restaurants['nreviews'] = pd.to_numeric(restaurants['nreviews'], errors='coerce')"
   ]
  },
  {
   "cell_type": "code",
   "execution_count": 5,
   "metadata": {},
   "outputs": [],
   "source": [
    "#Addresses format and removing not normalized rows\n",
    "new_address=[]\n",
    "\n",
    "for values in restaurants['address']:\n",
    "    try:\n",
    "        street=re.search(\"(.*?)\\d+\", values).group()+', CABA, Argentina'\n",
    "    except AttributeError:\n",
    "        street='Not normalized'\n",
    "    \n",
    "    new_address.append(street)\n",
    "\n",
    "restaurants['new_address']=new_address\n",
    "\n",
    "restaurants['new_address']=([i\n",
    "                             .replace('Calle ','')\n",
    "                             .replace('Avenida ','')\n",
    "                             .replace('Av. ','')\n",
    "                             for i in restaurants['new_address']])\n",
    "\n",
    "restaurants = restaurants[restaurants['new_address'] != 'Not normalized']"
   ]
  },
  {
   "cell_type": "code",
   "execution_count": 6,
   "metadata": {},
   "outputs": [
    {
     "data": {
      "text/html": [
       "<div>\n",
       "<style scoped>\n",
       "    .dataframe tbody tr th:only-of-type {\n",
       "        vertical-align: middle;\n",
       "    }\n",
       "\n",
       "    .dataframe tbody tr th {\n",
       "        vertical-align: top;\n",
       "    }\n",
       "\n",
       "    .dataframe thead th {\n",
       "        text-align: right;\n",
       "    }\n",
       "</style>\n",
       "<table border=\"1\" class=\"dataframe\">\n",
       "  <thead>\n",
       "    <tr style=\"text-align: right;\">\n",
       "      <th></th>\n",
       "      <th>name</th>\n",
       "      <th>cuisines</th>\n",
       "      <th>rank</th>\n",
       "      <th>nreviews</th>\n",
       "      <th>address</th>\n",
       "      <th>phone</th>\n",
       "      <th>website</th>\n",
       "      <th>score</th>\n",
       "      <th>food</th>\n",
       "      <th>service</th>\n",
       "      <th>value</th>\n",
       "      <th>new_address</th>\n",
       "    </tr>\n",
       "  </thead>\n",
       "  <tbody>\n",
       "    <tr>\n",
       "      <td>0</td>\n",
       "      <td>La Choripanería</td>\n",
       "      <td>Argentina, Latina, Comida rápida, Parrilla</td>\n",
       "      <td>#16 de 5.006</td>\n",
       "      <td>316.0</td>\n",
       "      <td>Bolívar 954 Local 42, Mercado de San Telmo, Bu...</td>\n",
       "      <td>+54 11 4244-9478</td>\n",
       "      <td>https://www.facebook.com/La-Choripaner%C3%ADa-...</td>\n",
       "      <td>4.5</td>\n",
       "      <td>5.0</td>\n",
       "      <td>4.5</td>\n",
       "      <td>4.5</td>\n",
       "      <td>Bolívar 954, CABA, Argentina</td>\n",
       "    </tr>\n",
       "  </tbody>\n",
       "</table>\n",
       "</div>"
      ],
      "text/plain": [
       "              name                                    cuisines           rank  \\\n",
       "0  La Choripanería  Argentina, Latina, Comida rápida, Parrilla  #16 de 5.006    \n",
       "\n",
       "   nreviews                                            address  \\\n",
       "0     316.0  Bolívar 954 Local 42, Mercado de San Telmo, Bu...   \n",
       "\n",
       "              phone                                            website  score  \\\n",
       "0  +54 11 4244-9478  https://www.facebook.com/La-Choripaner%C3%ADa-...    4.5   \n",
       "\n",
       "   food  service  value                   new_address  \n",
       "0   5.0      4.5    4.5  Bolívar 954, CABA, Argentina  "
      ]
     },
     "execution_count": 6,
     "metadata": {},
     "output_type": "execute_result"
    }
   ],
   "source": [
    "#Rank format\n",
    "restaurants['rank'] = [i.replace('restaurantes en Buenos Aires','') for i in restaurants['rank']]\n",
    "\n",
    "restaurants.head(1)"
   ]
  },
  {
   "cell_type": "markdown",
   "metadata": {},
   "source": [
    "<a id='mapping' />\n",
    "\n",
    "## Mapping\n",
    "[(back to top)](#content)"
   ]
  },
  {
   "cell_type": "code",
   "execution_count": 7,
   "metadata": {},
   "outputs": [
    {
     "name": "stderr",
     "output_type": "stream",
     "text": [
      "/Users/nicolamori/opt/anaconda3/lib/python3.7/site-packages/tqdm/std.py:648: FutureWarning: The Panel class is removed from pandas. Accessing it from the top-level namespace will also be removed in the next version\n",
      "  from pandas import Panel\n",
      "100%|██████████| 829/829 [13:55<00:00,  1.01s/it]\n"
     ]
    }
   ],
   "source": [
    "from geopy.geocoders import Nominatim\n",
    "geolocator = Nominatim(user_agent=\"restaurants_coord\")\n",
    "\n",
    "from geopy.extra.rate_limiter import RateLimiter\n",
    "geocode = RateLimiter(geolocator.geocode, min_delay_seconds=1)\n",
    "\n",
    "from tqdm import tqdm\n",
    "tqdm.pandas()\n",
    "\n",
    "restaurants['location'] = restaurants['new_address'].progress_apply(geocode)\n",
    "\n",
    "restaurants['point'] = restaurants['location'].apply(lambda loc: tuple(loc.point) if loc else None)"
   ]
  },
  {
   "cell_type": "code",
   "execution_count": 15,
   "metadata": {},
   "outputs": [],
   "source": [
    "restaurants = restaurants[restaurants.point.notnull()]\n"
   ]
  },
  {
   "cell_type": "code",
   "execution_count": 20,
   "metadata": {},
   "outputs": [],
   "source": [
    "restaurants.to_csv('affordable_restaurants2.tsv', sep='\\t', index=False)"
   ]
  },
  {
   "cell_type": "code",
   "execution_count": null,
   "metadata": {},
   "outputs": [],
   "source": []
  },
  {
   "cell_type": "code",
   "execution_count": null,
   "metadata": {},
   "outputs": [],
   "source": [
    "restaurants[['latitude', 'longitude', 'altitude']] = restaurants.point.str.split(\",\", expand=True)\n",
    "\n",
    "restaurants['latitude'] = [i.replace('(','') for i in restaurants['latitude']]\n",
    "restaurants.drop(['point','altitude'], axis=1, inplace=True)\n"
   ]
  },
  {
   "cell_type": "code",
   "execution_count": null,
   "metadata": {},
   "outputs": [],
   "source": [
    "import unidecode\n"
   ]
  },
  {
   "cell_type": "code",
   "execution_count": null,
   "metadata": {},
   "outputs": [],
   "source": [
    "restaurants['latitude']=pd.to_numeric(restaurants['latitude'], errors='coerce')\n",
    "restaurants['longitude']=pd.to_numeric(restaurants['longitude'], errors='coerce')\n"
   ]
  },
  {
   "cell_type": "code",
   "execution_count": null,
   "metadata": {},
   "outputs": [],
   "source": [
    "%%time\n",
    "\n",
    "m = folium.Map(location=[-34.6083,-58.4212], tiles='cartodbpositron', zoom_start=12)\n",
    "\n",
    "\n",
    "\n",
    "marker_cluster = MarkerCluster(name='cheap restaurants', overlay=True, control=False, icon_create_function=None)\n",
    "\n",
    "for i in range(len(restaurants['latitude'])):\n",
    "    location = restaurants['latitude'][i], restaurants['longitude'][i]\n",
    "    marker = folium.Marker(location=location)\n",
    "    popup = ('<b>Name:</b> {} <br><b>Cuisines:</b> {} <br><b>Rank:</b> {} <br><b>Reviews:</b> {} <br><b>Score:</b> {}  <br><b>Address:</b> {} <br><b>Phone:</b> {} <br><b>Website:</b> <a href={}>abc</a>'\n",
    "             .format(re.sub(r'[^\\w]', ' ', unidecode.unidecode(restaurants['name'][i])), \n",
    "                     restaurants['cuisines'][i],\n",
    "                     restaurants['rank'][i],\n",
    "                     restaurants['nreviews'][i],\n",
    "                     restaurants['score'][i], \n",
    "                     restaurants['new_address'][i], \n",
    "                     restaurants['phone'][i], \n",
    "                     restaurants['website'][i]))\n",
    "    folium.Popup(popup, max_width=500).add_to(marker)\n",
    "    marker_cluster.add_child(marker)\n",
    "\n",
    "marker_cluster.add_to(m)\n",
    "\n",
    "folium.LayerControl().add_to(m)\n",
    "\n",
    "m"
   ]
  },
  {
   "cell_type": "code",
   "execution_count": null,
   "metadata": {},
   "outputs": [],
   "source": [
    "#https://python-visualization.github.io/folium/plugins.html#folium-plugins\n",
    "#https://nbviewer.jupyter.org/github/python-visualization/folium/blob/master/examples/MarkerCluster.ipynb"
   ]
  },
  {
   "cell_type": "markdown",
   "metadata": {},
   "source": [
    "# PENDIENTES\n",
    "## corregir direcciones\n",
    "## probar capas en el mapa"
   ]
  },
  {
   "cell_type": "code",
   "execution_count": null,
   "metadata": {},
   "outputs": [],
   "source": []
  },
  {
   "cell_type": "code",
   "execution_count": null,
   "metadata": {},
   "outputs": [],
   "source": []
  }
 ],
 "metadata": {
  "kernelspec": {
   "display_name": "Python 3",
   "language": "python",
   "name": "python3"
  },
  "language_info": {
   "codemirror_mode": {
    "name": "ipython",
    "version": 3
   },
   "file_extension": ".py",
   "mimetype": "text/x-python",
   "name": "python",
   "nbconvert_exporter": "python",
   "pygments_lexer": "ipython3",
   "version": "3.7.4"
  }
 },
 "nbformat": 4,
 "nbformat_minor": 4
}
