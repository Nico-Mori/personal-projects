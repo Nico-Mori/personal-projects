{
 "cells": [
  {
   "cell_type": "markdown",
   "metadata": {},
   "source": [
    "# How much is your Fiat 500 worth?\n",
    "## Skills: Python, Web scraping, Geopy, Regression\n",
    "\n",
    "Download the Jupyter Notebook from [GitHub](https://nicomoriuala.github.io)"
   ]
  },
  {
   "cell_type": "markdown",
   "metadata": {},
   "source": [
    "<a id='content' />\n",
    "\n",
    "## Contents\n",
    "\n",
    "1. [Introduction](#intro)\n",
    "1. [Web Scraping](#scraping)\n",
    "2. [Data Cleansing](#cleansing)\n",
    "3. [Mapping](#mapping)\n",
    "4. [A definir](#volatility)"
   ]
  },
  {
   "cell_type": "markdown",
   "metadata": {},
   "source": [
    "<a id='intro' />\n",
    "\n",
    "## Introduction\n",
    "[(back to top)](#content)"
   ]
  },
  {
   "cell_type": "code",
   "execution_count": 1,
   "metadata": {},
   "outputs": [],
   "source": [
    "#Importing packages\n",
    "import pandas as pd\n",
    "import numpy as np\n",
    "import re\n",
    "import unidecode\n",
    "\n",
    "from tqdm.notebook import tqdm\n",
    "import time\n",
    "\n",
    "from selenium import webdriver\n",
    "from selenium.common.exceptions import NoSuchElementException"
   ]
  },
  {
   "cell_type": "markdown",
   "metadata": {},
   "source": [
    "<a id='scraping' />\n",
    "\n",
    "## Web Scraping\n",
    "[(back to top)](#content)"
   ]
  },
  {
   "cell_type": "code",
   "execution_count": 36,
   "metadata": {},
   "outputs": [],
   "source": [
    "#Load webdriver\n",
    "driver = webdriver.Chrome('/Users/nicolamori/Library/Application Support/binman_chromedriver/mac64/85.0.4183.38/chromedriver')\n",
    "\n",
    "#Open page\n",
    "driver.get('https://www.automobile.it/fiat-500-usate?anno_fino_a=2020&immatricolazione=2007')\n",
    "time.sleep(4)\n",
    "\n",
    "#Close cookies popup\n",
    "driver.find_element_by_xpath('//*[@id=\"onetrust-accept-btn-handler\"]').click()\n",
    "time.sleep(2)"
   ]
  },
  {
   "cell_type": "code",
   "execution_count": 37,
   "metadata": {},
   "outputs": [
    {
     "data": {
      "application/vnd.jupyter.widget-view+json": {
       "model_id": "7435e508253c47e6ab17536c4ca7cea1",
       "version_major": 2,
       "version_minor": 0
      },
      "text/plain": [
       "HBox(children=(FloatProgress(value=0.0, description='1st loop', max=158.0, style=ProgressStyle(description_wid…"
      ]
     },
     "metadata": {},
     "output_type": "display_data"
    },
    {
     "name": "stdout",
     "output_type": "stream",
     "text": [
      "\n",
      "CPU times: user 26.1 s, sys: 2.32 s, total: 28.4 s\n",
      "Wall time: 20min 55s\n"
     ]
    }
   ],
   "source": [
    "#Empty list and df\n",
    "temp = []\n",
    "df_ = pd.DataFrame(columns=['Title', 'Province','Condition', 'Month_Year', 'Kms', 'Fuel', 'Transmission', 'Owners', 'Price'])\n",
    "\n",
    "#Number of pages\n",
    "npages = int(driver.find_element_by_xpath('//*[@id=\"__next\"]/main/div[2]/div/div[4]/div[2]/div[3]/div[1]/button[4]').text)\n",
    "\n",
    "for h in tqdm(range(npages), position = 0, desc='1st loop'):\n",
    "    \n",
    "\n",
    "    #Title and Province\n",
    "    titles=driver.find_elements_by_xpath('//*[@class=\"jsx-3257049061 jsx-2759044879\"]')\n",
    "    for title in titles: temp.append(title.text)\n",
    "    \n",
    "    del temp[1::3]\n",
    "    temp = [temp[x:x+2] for x in range(0, len(temp),2)]\n",
    "    \n",
    "    #Dataframe and clear list\n",
    "    part_1 = pd.DataFrame(temp, columns=['Title', 'Province'])  \n",
    "    temp.clear()\n",
    "    \n",
    "    \n",
    "    #Specs\n",
    "    specs=driver.find_elements_by_xpath('//*[@class=\"jsx-3257049061 jsx-2759044879 Card__InfoTag font-base\"]')\n",
    "    for spec in specs: temp.append(spec.text)\n",
    "    \n",
    "    while 'Unico proprietario' in temp: temp.remove('Unico proprietario')\n",
    "    while '2 Proprietari' in temp: temp.remove('2 Proprietari')\n",
    "    while '3 Proprietari' in temp: temp.remove('3 Proprietari')\n",
    "    while '4 Proprietari' in temp: temp.remove('4 Proprietari')\n",
    "        \n",
    "    size = len(temp) \n",
    "    idx_list = [idx for idx, val in enumerate(temp) if val == 'Usato'] \n",
    "    temp = [temp[i: j] for i, j in zip([0] + idx_list, idx_list + ([size] if idx_list[-1] != size else []))] \n",
    "    del temp[0:0 + 1]\n",
    "    \n",
    "    #Dataframe and clear list\n",
    "    part_2 = pd.DataFrame(temp, columns=['Condition', 'Month_Year', 'Kms', 'Fuel', 'Transmission'])\n",
    "    temp.clear()\n",
    "    \n",
    "    \n",
    "    #Price\n",
    "    prices=driver.find_elements_by_xpath('//*[@class=\"jsx-3257049061 jsx-2759044879 Card__InfoPrice font-medium\"]')\n",
    "    for price in prices: temp.append(price.text)\n",
    "        \n",
    "    #Dataframe and clear list\n",
    "    part_3 = pd.DataFrame(temp, columns=['Price'])\n",
    "    temp.clear()\n",
    "    \n",
    "    \n",
    "    #Combine parts and append to dataframe\n",
    "    df = pd.concat([part_1.reset_index(drop=True), part_2.reset_index(drop=True), part_3.reset_index(drop=True)], axis=1)\n",
    "    df_ = df_.append(df, ignore_index = True)\n",
    "    \n",
    "    \n",
    "    #Switch to next page or close\n",
    "    if h < max(range(npages)):\n",
    "        driver.find_element_by_xpath('//*[@class=\"jsx-3190051910 font-base xxsmall primary-orange styled\"]').click()\n",
    "        time.sleep(3)\n",
    "    else: driver.close()\n",
    "    \n",
    "    \n",
    "#df_.to_csv('fiat500_prices.tsv', sep='\\t', index=False)"
   ]
  },
  {
   "cell_type": "code",
   "execution_count": 38,
   "metadata": {},
   "outputs": [],
   "source": []
  },
  {
   "cell_type": "code",
   "execution_count": null,
   "metadata": {},
   "outputs": [],
   "source": []
  },
  {
   "cell_type": "code",
   "execution_count": 21,
   "metadata": {},
   "outputs": [],
   "source": []
  },
  {
   "cell_type": "code",
   "execution_count": null,
   "metadata": {},
   "outputs": [],
   "source": []
  },
  {
   "cell_type": "code",
   "execution_count": null,
   "metadata": {},
   "outputs": [],
   "source": []
  },
  {
   "cell_type": "code",
   "execution_count": 20,
   "metadata": {},
   "outputs": [],
   "source": [
    "#driver.close()"
   ]
  },
  {
   "cell_type": "code",
   "execution_count": null,
   "metadata": {},
   "outputs": [],
   "source": []
  }
 ],
 "metadata": {
  "kernelspec": {
   "display_name": "Python 3",
   "language": "python",
   "name": "python3"
  },
  "language_info": {
   "codemirror_mode": {
    "name": "ipython",
    "version": 3
   },
   "file_extension": ".py",
   "mimetype": "text/x-python",
   "name": "python",
   "nbconvert_exporter": "python",
   "pygments_lexer": "ipython3",
   "version": "3.8.3"
  }
 },
 "nbformat": 4,
 "nbformat_minor": 4
}
