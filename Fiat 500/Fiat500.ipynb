{
 "cells": [
  {
   "cell_type": "markdown",
   "metadata": {},
   "source": [
    "# How much is your Fiat 500 worth?\n",
    "## Skills: Python, Web scraping, Geopy, Regression\n",
    "\n",
    "Download the Jupyter Notebook from [GitHub](https://nicomoriuala.github.io)"
   ]
  },
  {
   "cell_type": "markdown",
   "metadata": {},
   "source": [
    "<a id='content' />\n",
    "\n",
    "## Contents\n",
    "\n",
    "1. [Introduction](#intro)\n",
    "1. [Web Scraping](#scraping)\n",
    "2. [Data Cleansing](#cleansing)\n",
    "3. [Mapping](#mapping)\n",
    "4. [A definir](#volatility)"
   ]
  },
  {
   "cell_type": "markdown",
   "metadata": {},
   "source": [
    "<a id='intro' />\n",
    "\n",
    "## Introduction\n",
    "[(back to top)](#content)"
   ]
  },
  {
   "cell_type": "code",
   "execution_count": 2,
   "metadata": {},
   "outputs": [],
   "source": [
    "#Importing packages\n",
    "import pandas as pd\n",
    "import numpy as np\n",
    "import re\n",
    "import unidecode\n",
    "\n",
    "from tqdm.notebook import tqdm\n",
    "import time\n",
    "\n",
    "from selenium import webdriver\n",
    "from selenium.common.exceptions import NoSuchElementException"
   ]
  },
  {
   "cell_type": "markdown",
   "metadata": {},
   "source": [
    "<a id='scraping' />\n",
    "\n",
    "## Web Scraping\n",
    "[(back to top)](#content)"
   ]
  },
  {
   "cell_type": "code",
   "execution_count": 36,
   "metadata": {},
   "outputs": [],
   "source": [
    "#Load webdriver\n",
    "driver = webdriver.Chrome('/Users/nicolamori/Library/Application Support/binman_chromedriver/mac64/85.0.4183.38/chromedriver')\n",
    "\n",
    "#Open page\n",
    "driver.get('https://www.automobile.it/fiat-500-usate?anno_fino_a=2020&immatricolazione=2007')\n",
    "time.sleep(4)\n",
    "\n",
    "#Close cookies popup\n",
    "driver.find_element_by_xpath('//*[@id=\"onetrust-accept-btn-handler\"]').click()\n",
    "time.sleep(2)"
   ]
  },
  {
   "cell_type": "code",
   "execution_count": 37,
   "metadata": {},
   "outputs": [
    {
     "data": {
      "application/vnd.jupyter.widget-view+json": {
       "model_id": "7435e508253c47e6ab17536c4ca7cea1",
       "version_major": 2,
       "version_minor": 0
      },
      "text/plain": [
       "HBox(children=(FloatProgress(value=0.0, description='1st loop', max=158.0, style=ProgressStyle(description_wid…"
      ]
     },
     "metadata": {},
     "output_type": "display_data"
    },
    {
     "name": "stdout",
     "output_type": "stream",
     "text": [
      "\n",
      "CPU times: user 26.1 s, sys: 2.32 s, total: 28.4 s\n",
      "Wall time: 20min 55s\n"
     ]
    }
   ],
   "source": [
    "#Empty list and df\n",
    "temp = []\n",
    "df_ = pd.DataFrame(columns=['Title', 'Province','Condition', 'Month_Year', 'Kms', 'Fuel', 'Transmission', 'Price'])\n",
    "\n",
    "#Number of pages\n",
    "npages = int(driver.find_element_by_xpath('//*[@id=\"__next\"]/main/div[2]/div/div[4]/div[2]/div[3]/div[1]/button[4]').text)\n",
    "\n",
    "for h in tqdm(range(npages), position = 0, desc='1st loop'):\n",
    "    \n",
    "\n",
    "    #Title and Province\n",
    "    titles=driver.find_elements_by_xpath('//*[@class=\"jsx-3257049061 jsx-2759044879\"]')\n",
    "    for title in titles: temp.append(title.text)\n",
    "    \n",
    "    del temp[1::3]\n",
    "    temp = [temp[x:x+2] for x in range(0, len(temp),2)]\n",
    "    \n",
    "    #Dataframe and clear list\n",
    "    part_1 = pd.DataFrame(temp, columns=['Title', 'Province'])  \n",
    "    temp.clear()\n",
    "    \n",
    "    \n",
    "    #Specs\n",
    "    specs=driver.find_elements_by_xpath('//*[@class=\"jsx-3257049061 jsx-2759044879 Card__InfoTag font-base\"]')\n",
    "    for spec in specs: temp.append(spec.text)\n",
    "    \n",
    "    while 'Unico proprietario' in temp: temp.remove('Unico proprietario')\n",
    "    while '2 Proprietari' in temp: temp.remove('2 Proprietari')\n",
    "    while '3 Proprietari' in temp: temp.remove('3 Proprietari')\n",
    "    while '4 Proprietari' in temp: temp.remove('4 Proprietari')\n",
    "        \n",
    "    size = len(temp) \n",
    "    idx_list = [idx for idx, val in enumerate(temp) if val == 'Usato'] \n",
    "    temp = [temp[i: j] for i, j in zip([0] + idx_list, idx_list + ([size] if idx_list[-1] != size else []))] \n",
    "    del temp[0:0 + 1]\n",
    "    \n",
    "    #Dataframe and clear list\n",
    "    part_2 = pd.DataFrame(temp, columns=['Condition', 'Month_Year', 'Kms', 'Fuel', 'Transmission'])\n",
    "    temp.clear()\n",
    "    \n",
    "    \n",
    "    #Price\n",
    "    prices=driver.find_elements_by_xpath('//*[@class=\"jsx-3257049061 jsx-2759044879 Card__InfoPrice font-medium\"]')\n",
    "    for price in prices: temp.append(price.text)\n",
    "        \n",
    "    #Dataframe and clear list\n",
    "    part_3 = pd.DataFrame(temp, columns=['Price'])\n",
    "    temp.clear()\n",
    "    \n",
    "    \n",
    "    #Combine parts and append to dataframe\n",
    "    df = pd.concat([part_1.reset_index(drop=True), part_2.reset_index(drop=True), part_3.reset_index(drop=True)], axis=1)\n",
    "    df_ = df_.append(df, ignore_index = True)\n",
    "    \n",
    "    \n",
    "    #Switch to next page or close\n",
    "    if h < max(range(npages)):\n",
    "        driver.find_element_by_xpath('//*[@class=\"jsx-3190051910 font-base xxsmall primary-orange styled\"]').click()\n",
    "        time.sleep(3)\n",
    "    else: driver.close()\n",
    "    \n",
    "    \n",
    "#df_.to_csv('fiat500_prices.tsv', sep='\\t', index=False)"
   ]
  },
  {
   "cell_type": "code",
   "execution_count": 42,
   "metadata": {},
   "outputs": [
    {
     "name": "stdout",
     "output_type": "stream",
     "text": [
      "<class 'pandas.core.frame.DataFrame'>\n",
      "Int64Index: 2656 entries, 1 to 3148\n",
      "Data columns (total 7 columns):\n",
      " #   Column        Non-Null Count  Dtype \n",
      "---  ------        --------------  ----- \n",
      " 0   Title         2656 non-null   object\n",
      " 1   Province      2656 non-null   object\n",
      " 2   Month_Year    2656 non-null   object\n",
      " 3   Kms           2656 non-null   object\n",
      " 4   Fuel          2656 non-null   object\n",
      " 5   Transmission  2646 non-null   object\n",
      " 6   Price         2656 non-null   object\n",
      "dtypes: object(7)\n",
      "memory usage: 166.0+ KB\n"
     ]
    },
    {
     "data": {
      "text/html": [
       "<div>\n",
       "<style scoped>\n",
       "    .dataframe tbody tr th:only-of-type {\n",
       "        vertical-align: middle;\n",
       "    }\n",
       "\n",
       "    .dataframe tbody tr th {\n",
       "        vertical-align: top;\n",
       "    }\n",
       "\n",
       "    .dataframe thead th {\n",
       "        text-align: right;\n",
       "    }\n",
       "</style>\n",
       "<table border=\"1\" class=\"dataframe\">\n",
       "  <thead>\n",
       "    <tr style=\"text-align: right;\">\n",
       "      <th></th>\n",
       "      <th>Title</th>\n",
       "      <th>Province</th>\n",
       "      <th>Month_Year</th>\n",
       "      <th>Kms</th>\n",
       "      <th>Fuel</th>\n",
       "      <th>Transmission</th>\n",
       "      <th>Price</th>\n",
       "    </tr>\n",
       "  </thead>\n",
       "  <tbody>\n",
       "    <tr>\n",
       "      <th>1</th>\n",
       "      <td>FIAT 500</td>\n",
       "      <td>Giugliano in Campania (NA)</td>\n",
       "      <td>Luglio 2013</td>\n",
       "      <td>51.000 km</td>\n",
       "      <td>Benzina - Euro 5</td>\n",
       "      <td>Manuale</td>\n",
       "      <td>€ 4.990</td>\n",
       "    </tr>\n",
       "    <tr>\n",
       "      <th>2</th>\n",
       "      <td>Fiat 500 1.2 69cv Collezione Tetto</td>\n",
       "      <td>Ciampino (RM)</td>\n",
       "      <td>Gennaio 2019</td>\n",
       "      <td>31.412 km</td>\n",
       "      <td>Benzina - Euro 6</td>\n",
       "      <td>Manuale</td>\n",
       "      <td>€ 9.980</td>\n",
       "    </tr>\n",
       "    <tr>\n",
       "      <th>3</th>\n",
       "      <td>FIAT 500 1.2 Lounge</td>\n",
       "      <td>Moncalieri (TO)</td>\n",
       "      <td>Aprile 2019</td>\n",
       "      <td>14.918 km</td>\n",
       "      <td>Benzina - Euro 6</td>\n",
       "      <td>Manuale</td>\n",
       "      <td>€ 9.900</td>\n",
       "    </tr>\n",
       "    <tr>\n",
       "      <th>4</th>\n",
       "      <td>FIAT 500 1.2 Lounge</td>\n",
       "      <td>Torino (TO)</td>\n",
       "      <td>Maggio 2019</td>\n",
       "      <td>18.539 km</td>\n",
       "      <td>Benzina - Euro 6</td>\n",
       "      <td>Manuale</td>\n",
       "      <td>€ 9.700</td>\n",
       "    </tr>\n",
       "    <tr>\n",
       "      <th>5</th>\n",
       "      <td>Fiat 500 1.2 69 Cv Lounge Navi</td>\n",
       "      <td>Roma (RM)</td>\n",
       "      <td>Marzo 2019</td>\n",
       "      <td>21.445 km</td>\n",
       "      <td>Benzina</td>\n",
       "      <td>Manuale</td>\n",
       "      <td>€ 9.780</td>\n",
       "    </tr>\n",
       "  </tbody>\n",
       "</table>\n",
       "</div>"
      ],
      "text/plain": [
       "                                Title                    Province  \\\n",
       "1                            FIAT 500  Giugliano in Campania (NA)   \n",
       "2  Fiat 500 1.2 69cv Collezione Tetto               Ciampino (RM)   \n",
       "3                 FIAT 500 1.2 Lounge             Moncalieri (TO)   \n",
       "4                 FIAT 500 1.2 Lounge                 Torino (TO)   \n",
       "5      Fiat 500 1.2 69 Cv Lounge Navi                   Roma (RM)   \n",
       "\n",
       "     Month_Year        Kms              Fuel Transmission    Price  \n",
       "1   Luglio 2013  51.000 km  Benzina - Euro 5      Manuale  € 4.990  \n",
       "2  Gennaio 2019  31.412 km  Benzina - Euro 6      Manuale  € 9.980  \n",
       "3   Aprile 2019  14.918 km  Benzina - Euro 6      Manuale  € 9.900  \n",
       "4   Maggio 2019  18.539 km  Benzina - Euro 6      Manuale  € 9.700  \n",
       "5    Marzo 2019  21.445 km           Benzina      Manuale  € 9.780  "
      ]
     },
     "execution_count": 42,
     "metadata": {},
     "output_type": "execute_result"
    }
   ],
   "source": [
    "fiat_500=pd.read_csv('fiat500_prices.tsv', sep='\\t')\n",
    "\n",
    "del fiat_500['Owners']\n",
    "del fiat_500['Condition']\n",
    "\n",
    "fiat_500 = fiat_500[~fiat_500['Title'].str.contains('Abarth', case=False)]\n",
    "fiat_500 = fiat_500[~fiat_500['Title'].str.contains('C ', case=False)]\n",
    "\n",
    "fiat_500.info()\n",
    "\n",
    "fiat_500.head()"
   ]
  },
  {
   "cell_type": "code",
   "execution_count": 43,
   "metadata": {},
   "outputs": [
    {
     "name": "stdout",
     "output_type": "stream",
     "text": [
      "<class 'pandas.core.frame.DataFrame'>\n",
      "Int64Index: 2656 entries, 1 to 3148\n",
      "Data columns (total 7 columns):\n",
      " #   Column        Non-Null Count  Dtype  \n",
      "---  ------        --------------  -----  \n",
      " 0   Title         2656 non-null   object \n",
      " 1   Province      2656 non-null   object \n",
      " 2   Month_Year    2656 non-null   object \n",
      " 3   Kms           2656 non-null   float64\n",
      " 4   Fuel          2656 non-null   object \n",
      " 5   Transmission  2646 non-null   object \n",
      " 6   Price         2656 non-null   float64\n",
      "dtypes: float64(2), object(5)\n",
      "memory usage: 166.0+ KB\n"
     ]
    },
    {
     "data": {
      "text/html": [
       "<div>\n",
       "<style scoped>\n",
       "    .dataframe tbody tr th:only-of-type {\n",
       "        vertical-align: middle;\n",
       "    }\n",
       "\n",
       "    .dataframe tbody tr th {\n",
       "        vertical-align: top;\n",
       "    }\n",
       "\n",
       "    .dataframe thead th {\n",
       "        text-align: right;\n",
       "    }\n",
       "</style>\n",
       "<table border=\"1\" class=\"dataframe\">\n",
       "  <thead>\n",
       "    <tr style=\"text-align: right;\">\n",
       "      <th></th>\n",
       "      <th>Title</th>\n",
       "      <th>Province</th>\n",
       "      <th>Month_Year</th>\n",
       "      <th>Kms</th>\n",
       "      <th>Fuel</th>\n",
       "      <th>Transmission</th>\n",
       "      <th>Price</th>\n",
       "    </tr>\n",
       "  </thead>\n",
       "  <tbody>\n",
       "    <tr>\n",
       "      <th>1</th>\n",
       "      <td>FIAT 500</td>\n",
       "      <td>Giugliano in Campania (NA)</td>\n",
       "      <td>Luglio 2013</td>\n",
       "      <td>51.000</td>\n",
       "      <td>Benzina</td>\n",
       "      <td>Manuale</td>\n",
       "      <td>4.99</td>\n",
       "    </tr>\n",
       "    <tr>\n",
       "      <th>2</th>\n",
       "      <td>Fiat 500 1.2 69cv Collezione Tetto</td>\n",
       "      <td>Ciampino (RM)</td>\n",
       "      <td>Gennaio 2019</td>\n",
       "      <td>31.412</td>\n",
       "      <td>Benzina</td>\n",
       "      <td>Manuale</td>\n",
       "      <td>9.98</td>\n",
       "    </tr>\n",
       "    <tr>\n",
       "      <th>3</th>\n",
       "      <td>FIAT 500 1.2 Lounge</td>\n",
       "      <td>Moncalieri (TO)</td>\n",
       "      <td>Aprile 2019</td>\n",
       "      <td>14.918</td>\n",
       "      <td>Benzina</td>\n",
       "      <td>Manuale</td>\n",
       "      <td>9.90</td>\n",
       "    </tr>\n",
       "    <tr>\n",
       "      <th>4</th>\n",
       "      <td>FIAT 500 1.2 Lounge</td>\n",
       "      <td>Torino (TO)</td>\n",
       "      <td>Maggio 2019</td>\n",
       "      <td>18.539</td>\n",
       "      <td>Benzina</td>\n",
       "      <td>Manuale</td>\n",
       "      <td>9.70</td>\n",
       "    </tr>\n",
       "    <tr>\n",
       "      <th>5</th>\n",
       "      <td>Fiat 500 1.2 69 Cv Lounge Navi</td>\n",
       "      <td>Roma (RM)</td>\n",
       "      <td>Marzo 2019</td>\n",
       "      <td>21.445</td>\n",
       "      <td>Benzina</td>\n",
       "      <td>Manuale</td>\n",
       "      <td>9.78</td>\n",
       "    </tr>\n",
       "  </tbody>\n",
       "</table>\n",
       "</div>"
      ],
      "text/plain": [
       "                                Title                    Province  \\\n",
       "1                            FIAT 500  Giugliano in Campania (NA)   \n",
       "2  Fiat 500 1.2 69cv Collezione Tetto               Ciampino (RM)   \n",
       "3                 FIAT 500 1.2 Lounge             Moncalieri (TO)   \n",
       "4                 FIAT 500 1.2 Lounge                 Torino (TO)   \n",
       "5      Fiat 500 1.2 69 Cv Lounge Navi                   Roma (RM)   \n",
       "\n",
       "     Month_Year     Kms     Fuel Transmission  Price  \n",
       "1   Luglio 2013  51.000  Benzina      Manuale   4.99  \n",
       "2  Gennaio 2019  31.412  Benzina      Manuale   9.98  \n",
       "3   Aprile 2019  14.918  Benzina      Manuale   9.90  \n",
       "4   Maggio 2019  18.539  Benzina      Manuale   9.70  \n",
       "5    Marzo 2019  21.445  Benzina      Manuale   9.78  "
      ]
     },
     "execution_count": 43,
     "metadata": {},
     "output_type": "execute_result"
    }
   ],
   "source": [
    "fiat_500['Kms'] = ([i.replace(' km','') for i in fiat_500['Kms']])\n",
    "fiat_500['Kms'] = pd.to_numeric(fiat_500['Kms'])\n",
    "\n",
    "fiat_500['Price'] = ([i.replace('€ ','') for i in fiat_500['Price']])\n",
    "fiat_500['Price'] = pd.to_numeric(fiat_500['Price'])\n",
    "\n",
    "fiat_500['Fuel'] = ([i.replace(' - Euro ','') for i in fiat_500['Fuel']])\n",
    "fiat_500['Fuel'] = fiat_500['Fuel'].str.replace('\\d+', '')\n",
    "\n",
    "fiat_500.info()\n",
    "fiat_500.head()"
   ]
  },
  {
   "cell_type": "code",
   "execution_count": 45,
   "metadata": {},
   "outputs": [
    {
     "data": {
      "text/plain": [
       "Lounge        1685\n",
       "Pop            396\n",
       "Sport          323\n",
       "None           167\n",
       "Star            62\n",
       "Collezione      23\n",
       "Name: Version, dtype: int64"
      ]
     },
     "execution_count": 45,
     "metadata": {},
     "output_type": "execute_result"
    }
   ],
   "source": [
    "conditions = [fiat_500['Title'].str.contains('Lounge', case=False), \n",
    "              fiat_500['Title'].str.contains('Pop', case=False), \n",
    "              fiat_500['Title'].str.contains('Sport', case=False), \n",
    "              fiat_500['Title'].str.contains('Collezione', case=False), \n",
    "              fiat_500['Title'].str.contains('Star', case=False), \n",
    "              fiat_500['Title'].str.contains('S ', case=False), \n",
    "              fiat_500['Title'].str.contains(' S', case=False),  \n",
    "              fiat_500['Title'].str.contains('\"S\"', case=False)]\n",
    "\n",
    "choices = ['Lounge', 'Pop', 'Sport', 'Collezione', 'Star', 'Sport', 'Sport', 'Sport']\n",
    "\n",
    "fiat_500['Version'] = np.select(conditions, choices, default='None')\n",
    "\n",
    "fiat_500['Version']\n",
    "\n",
    "fiat_500.Version.value_counts()"
   ]
  },
  {
   "cell_type": "code",
   "execution_count": 29,
   "metadata": {},
   "outputs": [
    {
     "name": "stdout",
     "output_type": "stream",
     "text": [
      "<class 'pandas.core.frame.DataFrame'>\n",
      "Int64Index: 2656 entries, 1 to 3148\n",
      "Data columns (total 8 columns):\n",
      " #   Column        Non-Null Count  Dtype  \n",
      "---  ------        --------------  -----  \n",
      " 0   Title         2656 non-null   object \n",
      " 1   Province      2656 non-null   object \n",
      " 2   Month_Year    2656 non-null   object \n",
      " 3   Kms           2656 non-null   float64\n",
      " 4   Fuel          2656 non-null   object \n",
      " 5   Transmission  2646 non-null   object \n",
      " 6   Price         2656 non-null   float64\n",
      " 7   Version       2656 non-null   object \n",
      "dtypes: float64(2), object(6)\n",
      "memory usage: 186.8+ KB\n"
     ]
    }
   ],
   "source": []
  },
  {
   "cell_type": "code",
   "execution_count": 41,
   "metadata": {},
   "outputs": [],
   "source": []
  },
  {
   "cell_type": "code",
   "execution_count": 20,
   "metadata": {},
   "outputs": [],
   "source": [
    "#driver.close()"
   ]
  },
  {
   "cell_type": "code",
   "execution_count": null,
   "metadata": {},
   "outputs": [],
   "source": []
  }
 ],
 "metadata": {
  "kernelspec": {
   "display_name": "Python 3",
   "language": "python",
   "name": "python3"
  },
  "language_info": {
   "codemirror_mode": {
    "name": "ipython",
    "version": 3
   },
   "file_extension": ".py",
   "mimetype": "text/x-python",
   "name": "python",
   "nbconvert_exporter": "python",
   "pygments_lexer": "ipython3",
   "version": "3.8.3"
  }
 },
 "nbformat": 4,
 "nbformat_minor": 4
}
