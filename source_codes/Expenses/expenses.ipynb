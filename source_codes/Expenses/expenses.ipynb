{
 "cells": [
  {
   "cell_type": "code",
   "execution_count": 1,
   "metadata": {},
   "outputs": [],
   "source": [
    "import pandas as pd\n",
    "import numpy as np\n",
    "import os\n",
    "import matplotlib.pyplot as plt"
   ]
  },
  {
   "cell_type": "code",
   "execution_count": 2,
   "metadata": {},
   "outputs": [
    {
     "data": {
      "text/html": [
       "<div>\n",
       "<style scoped>\n",
       "    .dataframe tbody tr th:only-of-type {\n",
       "        vertical-align: middle;\n",
       "    }\n",
       "\n",
       "    .dataframe tbody tr th {\n",
       "        vertical-align: top;\n",
       "    }\n",
       "\n",
       "    .dataframe thead th {\n",
       "        text-align: right;\n",
       "    }\n",
       "</style>\n",
       "<table border=\"1\" class=\"dataframe\">\n",
       "  <thead>\n",
       "    <tr style=\"text-align: right;\">\n",
       "      <th></th>\n",
       "      <th>Costo</th>\n",
       "      <th>Data</th>\n",
       "      <th>Descrizione</th>\n",
       "      <th>Categorie</th>\n",
       "    </tr>\n",
       "  </thead>\n",
       "  <tbody>\n",
       "    <tr>\n",
       "      <th>0</th>\n",
       "      <td>87.00</td>\n",
       "      <td>2022-03-13</td>\n",
       "      <td>Hotel Madrid</td>\n",
       "      <td>Hotel</td>\n",
       "    </tr>\n",
       "    <tr>\n",
       "      <th>1</th>\n",
       "      <td>9.00</td>\n",
       "      <td>2022-03-13</td>\n",
       "      <td>Taxi</td>\n",
       "      <td>Taxi</td>\n",
       "    </tr>\n",
       "    <tr>\n",
       "      <th>2</th>\n",
       "      <td>13.25</td>\n",
       "      <td>2022-03-13</td>\n",
       "      <td>Cena taberna</td>\n",
       "      <td>Ristorante</td>\n",
       "    </tr>\n",
       "    <tr>\n",
       "      <th>3</th>\n",
       "      <td>4.00</td>\n",
       "      <td>2022-03-14</td>\n",
       "      <td>Desayuno</td>\n",
       "      <td>Ristorante</td>\n",
       "    </tr>\n",
       "    <tr>\n",
       "      <th>4</th>\n",
       "      <td>8.20</td>\n",
       "      <td>2022-03-15</td>\n",
       "      <td>Sushi</td>\n",
       "      <td>Ristorante</td>\n",
       "    </tr>\n",
       "  </tbody>\n",
       "</table>\n",
       "</div>"
      ],
      "text/plain": [
       "   Costo       Data    Descrizione   Categorie\n",
       "0  87.00 2022-03-13  Hotel Madrid        Hotel\n",
       "1   9.00 2022-03-13          Taxi         Taxi\n",
       "2  13.25 2022-03-13   Cena taberna  Ristorante\n",
       "3   4.00 2022-03-14       Desayuno  Ristorante\n",
       "4   8.20 2022-03-15          Sushi  Ristorante"
      ]
     },
     "execution_count": 2,
     "metadata": {},
     "output_type": "execute_result"
    }
   ],
   "source": [
    "filepaths = [f for f in os.listdir(\"./rawdata\") if f.endswith('.csv')]\n",
    "my_name = 'Nicola Mori'\n",
    "\n",
    "df = pd.DataFrame()\n",
    "\n",
    "for i in filepaths:\n",
    "\n",
    "    temp = pd.read_csv('rawdata/'+i)\n",
    "\n",
    "    #Remove last row\n",
    "    temp = temp[:-1]\n",
    "\n",
    "    #Unified criteria for ammount column\n",
    "    temp['Costo'] = pd.to_numeric(temp['Costo'])\n",
    "    temp['Costo']=np.where(temp[my_name]==0, temp['Costo'], temp['Costo']/(len(temp.loc[:,'Valuta':].columns)-1))\n",
    "\n",
    "    temp = temp.loc[:,:'Costo']\n",
    "\n",
    "    #Append to df\n",
    "    df = pd.concat([df, temp], ignore_index=True)\n",
    "\n",
    "#Reformat df\n",
    "df['Costo'] = df['Costo'].round(2)\n",
    "df['Data'] = pd.to_datetime(df['Data'])\n",
    "df = df[['Costo','Data','Descrizione','Categorie']]\n",
    "\n",
    "df.head()    "
   ]
  },
  {
   "cell_type": "code",
   "execution_count": 3,
   "metadata": {},
   "outputs": [
    {
     "data": {
      "text/html": [
       "<div>\n",
       "<style scoped>\n",
       "    .dataframe tbody tr th:only-of-type {\n",
       "        vertical-align: middle;\n",
       "    }\n",
       "\n",
       "    .dataframe tbody tr th {\n",
       "        vertical-align: top;\n",
       "    }\n",
       "\n",
       "    .dataframe thead th {\n",
       "        text-align: right;\n",
       "    }\n",
       "</style>\n",
       "<table border=\"1\" class=\"dataframe\">\n",
       "  <thead>\n",
       "    <tr style=\"text-align: right;\">\n",
       "      <th></th>\n",
       "      <th>Costo</th>\n",
       "      <th>Data</th>\n",
       "      <th>Descrizione</th>\n",
       "      <th>Categoria</th>\n",
       "    </tr>\n",
       "  </thead>\n",
       "  <tbody>\n",
       "    <tr>\n",
       "      <th>0</th>\n",
       "      <td>87.00</td>\n",
       "      <td>2022-03-13</td>\n",
       "      <td>Hotel Madrid</td>\n",
       "      <td>Personali</td>\n",
       "    </tr>\n",
       "    <tr>\n",
       "      <th>1</th>\n",
       "      <td>9.00</td>\n",
       "      <td>2022-03-13</td>\n",
       "      <td>Taxi</td>\n",
       "      <td>Trasporto</td>\n",
       "    </tr>\n",
       "    <tr>\n",
       "      <th>2</th>\n",
       "      <td>13.25</td>\n",
       "      <td>2022-03-13</td>\n",
       "      <td>Cena taberna</td>\n",
       "      <td>Personali</td>\n",
       "    </tr>\n",
       "    <tr>\n",
       "      <th>3</th>\n",
       "      <td>4.00</td>\n",
       "      <td>2022-03-14</td>\n",
       "      <td>Desayuno</td>\n",
       "      <td>Personali</td>\n",
       "    </tr>\n",
       "    <tr>\n",
       "      <th>4</th>\n",
       "      <td>8.20</td>\n",
       "      <td>2022-03-15</td>\n",
       "      <td>Sushi</td>\n",
       "      <td>Personali</td>\n",
       "    </tr>\n",
       "  </tbody>\n",
       "</table>\n",
       "</div>"
      ],
      "text/plain": [
       "   Costo       Data    Descrizione  Categoria\n",
       "0  87.00 2022-03-13  Hotel Madrid   Personali\n",
       "1   9.00 2022-03-13          Taxi   Trasporto\n",
       "2  13.25 2022-03-13   Cena taberna  Personali\n",
       "3   4.00 2022-03-14       Desayuno  Personali\n",
       "4   8.20 2022-03-15          Sushi  Personali"
      ]
     },
     "execution_count": 3,
     "metadata": {},
     "output_type": "execute_result"
    }
   ],
   "source": [
    "categories = pd.read_csv('splitwise_cat.csv', sep=';')\n",
    "\n",
    "df1 = df.merge(categories, on='Categorie', how='left')\n",
    "\n",
    "df1 = df1.drop(['Categorie','Gruppi'], axis=1)\n",
    "\n",
    "df1.head()"
   ]
  },
  {
   "cell_type": "code",
   "execution_count": 4,
   "metadata": {},
   "outputs": [
    {
     "data": {
      "text/html": [
       "<div>\n",
       "<style scoped>\n",
       "    .dataframe tbody tr th:only-of-type {\n",
       "        vertical-align: middle;\n",
       "    }\n",
       "\n",
       "    .dataframe tbody tr th {\n",
       "        vertical-align: top;\n",
       "    }\n",
       "\n",
       "    .dataframe thead th {\n",
       "        text-align: right;\n",
       "    }\n",
       "</style>\n",
       "<table border=\"1\" class=\"dataframe\">\n",
       "  <thead>\n",
       "    <tr style=\"text-align: right;\">\n",
       "      <th>Categoria</th>\n",
       "      <th>Casa</th>\n",
       "      <th>Mangiare</th>\n",
       "      <th>Personali</th>\n",
       "      <th>Salute e carriera</th>\n",
       "      <th>Trasporto</th>\n",
       "      <th>Totale</th>\n",
       "    </tr>\n",
       "    <tr>\n",
       "      <th>Data</th>\n",
       "      <th></th>\n",
       "      <th></th>\n",
       "      <th></th>\n",
       "      <th></th>\n",
       "      <th></th>\n",
       "      <th></th>\n",
       "    </tr>\n",
       "  </thead>\n",
       "  <tbody>\n",
       "    <tr>\n",
       "      <th>3</th>\n",
       "      <td>106.5</td>\n",
       "      <td>49.49</td>\n",
       "      <td>245.90</td>\n",
       "      <td>7.8</td>\n",
       "      <td>68.40</td>\n",
       "      <td>478.09</td>\n",
       "    </tr>\n",
       "    <tr>\n",
       "      <th>4</th>\n",
       "      <td>356.3</td>\n",
       "      <td>76.25</td>\n",
       "      <td>340.66</td>\n",
       "      <td>0.0</td>\n",
       "      <td>47.25</td>\n",
       "      <td>820.46</td>\n",
       "    </tr>\n",
       "    <tr>\n",
       "      <th>Totale</th>\n",
       "      <td>462.8</td>\n",
       "      <td>125.74</td>\n",
       "      <td>586.56</td>\n",
       "      <td>7.8</td>\n",
       "      <td>115.65</td>\n",
       "      <td>1298.55</td>\n",
       "    </tr>\n",
       "  </tbody>\n",
       "</table>\n",
       "</div>"
      ],
      "text/plain": [
       "Categoria   Casa  Mangiare  Personali  Salute e carriera  Trasporto   Totale\n",
       "Data                                                                        \n",
       "3          106.5     49.49     245.90                7.8      68.40   478.09\n",
       "4          356.3     76.25     340.66                0.0      47.25   820.46\n",
       "Totale     462.8    125.74     586.56                7.8     115.65  1298.55"
      ]
     },
     "execution_count": 4,
     "metadata": {},
     "output_type": "execute_result"
    }
   ],
   "source": [
    "df2 = df1.groupby([df1.Data.dt.month, df1.Categoria])['Costo'].sum()\n",
    "\n",
    "df2 = df2.unstack('Categoria')\n",
    "\n",
    "df2['Totale'] = df2.sum(axis=1)\n",
    "\n",
    "df2.loc['Totale'] = df2.sum(axis=0)\n",
    "\n",
    "df2.fillna(0)"
   ]
  },
  {
   "cell_type": "code",
   "execution_count": 5,
   "metadata": {},
   "outputs": [],
   "source": [
    "df3 = df2.iloc[:-1,:-1]"
   ]
  },
  {
   "cell_type": "code",
   "execution_count": 42,
   "metadata": {},
   "outputs": [
    {
     "data": {
      "image/png": "[encoded data removed]",
      "text/plain": [
       "<Figure size 864x576 with 1 Axes>"
      ]
     },
     "metadata": {
      "needs_background": "light"
     },
     "output_type": "display_data"
    }
   ],
   "source": [
    "fig, ax = plt.subplots(1, 1)\n",
    "\n",
    "ax.xaxis.tick_top() \n",
    "\n",
    "df3.plot.barh(stacked=True, figsize=(12,8), table=np.round(df2.fillna(0), 2), ax=ax)\n",
    "\n",
    "plt.savefig(fname='expenses.png', dpi=300, facecolor='white', bbox_inches='tight')\n",
    "\n",
    "#plt.subplots_adjust(left=0, bottom=0)\n",
    "\n"
   ]
  },
  {
   "cell_type": "code",
   "execution_count": 102,
   "metadata": {},
   "outputs": [],
   "source": [
    "df1.to_excel('expenses.xlsx', index=False)"
   ]
  }
 ],
 "metadata": {
  "interpreter": {
   "hash": "c6e4e9f98eb68ad3b7c296f83d20e6de614cb42e90992a65aa266555a3137d0d"
  },
  "kernelspec": {
   "display_name": "Python 3.9.6 ('base')",
   "language": "python",
   "name": "python3"
  },
  "language_info": {
   "codemirror_mode": {
    "name": "ipython",
    "version": 3
   },
   "file_extension": ".py",
   "mimetype": "text/x-python",
   "name": "python",
   "nbconvert_exporter": "python",
   "pygments_lexer": "ipython3",
   "version": "3.9.6"
  },
  "orig_nbformat": 4
 },
 "nbformat": 4,
 "nbformat_minor": 2
}
