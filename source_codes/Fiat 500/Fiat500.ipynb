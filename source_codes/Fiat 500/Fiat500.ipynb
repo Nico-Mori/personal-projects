{
 "cells": [
  {
   "cell_type": "markdown",
   "metadata": {},
   "source": [
    "# How much is your Fiat 500 worth? 🚗💨 - Price Prediction\n",
    "\n",
    "<br />\n",
    "\n",
    "<center>\n",
    "<img src=\"https://i0.wp.com/perezloizeau.com/wp-content/uploads/2015/09/Fiat-500-2015_1.jpg?w=630\" alt=\"25746\" border=\"0\" width=\"50%\" height=\"50%\">\n",
    "</center>\n",
    "\n",
    "## Skills: Python, Web scraping, Geopy, Linear Regression\n",
    "\n",
    "Download the Jupyter Notebook from [GitHub](https://nico-mori.github.io)"
   ]
  },
  {
   "cell_type": "markdown",
   "metadata": {},
   "source": [
    "<a id='content' />\n",
    "\n",
    "## Contents\n",
    "\n",
    "1. [Introduction](#intro)\n",
    "2. [Web Scraping](#scraping)\n",
    "3. [Data Cleansing](#cleansing)\n",
    "4. [EDA](#eda)\n",
    "5. [Preprocessing](#processing)"
   ]
  },
  {
   "cell_type": "markdown",
   "metadata": {},
   "source": [
    "<a id='intro' />\n",
    "\n",
    "## Introduction\n",
    "[(back to top)](#content)\n",
    "\n",
    "The Fiat 500 or cinquecento, is one of the most iconic Italian cars ever produced (there was even one displayed at [New York's Museum of Modern Art](https://www.moma.org/collection/works/220647)). In 2007, 50 years after the original model was lanched, Fiat launched a new generation that has been among the most sold cars in Italy ever since.\n",
    "\n",
    "The goal of this project is to try to predict how much money is one of this very likable cars worth on the second hand market in Italy depending on different variables such as mileage, year, version and any other ones we are able to get from our data gathering."
   ]
  },
  {
   "cell_type": "code",
   "execution_count": 1,
   "metadata": {},
   "outputs": [],
   "source": [
    "#Importing packages\n",
    "import pandas as pd\n",
    "import numpy as np\n",
    "import re\n",
    "import unidecode\n",
    "from scipy import stats\n",
    "\n",
    "from tqdm.notebook import tqdm\n",
    "import time\n",
    "\n",
    "from selenium import webdriver\n",
    "from selenium.webdriver.common.by import By\n",
    "from webdriver_manager.chrome import ChromeDriverManager\n",
    "from selenium.common.exceptions import NoSuchElementException\n",
    "\n",
    "import matplotlib.pyplot as plt\n",
    "import seaborn as sns"
   ]
  },
  {
   "cell_type": "markdown",
   "metadata": {},
   "source": [
    "<a id='scraping' />\n",
    "\n",
    "## Web Scraping\n",
    "[(back to top)](#content)"
   ]
  },
  {
   "cell_type": "code",
   "execution_count": 2,
   "metadata": {},
   "outputs": [
    {
     "name": "stderr",
     "output_type": "stream",
     "text": [
      "\n",
      "\n",
      "====== WebDriver manager ======\n",
      "Current google-chrome version is 99.0.4844\n",
      "Get LATEST chromedriver version for 99.0.4844 google-chrome\n",
      "Trying to download new driver from https://chromedriver.storage.googleapis.com/99.0.4844.51/chromedriver_mac64_m1.zip\n",
      "Driver has been saved in cache [/Users/nicolamori/.wdm/drivers/chromedriver/mac64_m1/99.0.4844.51]\n",
      "/var/folders/ql/_b5wc0454s19_35z6z14vp8r0000gn/T/ipykernel_7046/699680229.py:2: DeprecationWarning: executable_path has been deprecated, please pass in a Service object\n",
      "  driver = webdriver.Chrome(ChromeDriverManager().install())\n"
     ]
    }
   ],
   "source": [
    "#Load webdriver\n",
    "driver = webdriver.Chrome(ChromeDriverManager().install())\n",
    "\n",
    "#Open page\n",
    "driver.get('https://www.automobile.it/fiat-500-usate?anno_fino_a=2021&immatricolazione=2007')\n",
    "time.sleep(4)\n",
    "\n",
    "#Close location popup\n",
    "driver.find_element(by=By.XPATH, value='//*[@id=\"modal\"]/div/div/div/div/div[2]/button[1]').click()\n",
    "time.sleep(2)\n",
    "\n",
    "#Close cookies popup\n",
    "driver.find_element(by=By.XPATH, value='//*[@id=\"onetrust-accept-btn-handler\"]').click()\n",
    "time.sleep(2)"
   ]
  },
  {
   "cell_type": "code",
   "execution_count": 3,
   "metadata": {},
   "outputs": [
    {
     "data": {
      "application/vnd.jupyter.widget-view+json": {
       "model_id": "3347b63fbab24dc08cc6bfa8af4ff2f2",
       "version_major": 2,
       "version_minor": 0
      },
      "text/plain": [
       "1st loop:   0%|          | 0/159 [00:00<?, ?it/s]"
      ]
     },
     "metadata": {},
     "output_type": "display_data"
    }
   ],
   "source": [
    "#Empty list and df\n",
    "temp=[]\n",
    "df = pd.DataFrame(columns=['Title', 'Province','Condition', 'Month_Year', 'Kms', 'Fuel', 'Transmission', 'Price'])\n",
    "\n",
    "#Number of pages\n",
    "npages = int(driver.find_element(by=By.XPATH, value='//*[@id=\"__next\"]/main/div[3]/div/div[3]/div[2]/div[3]/div[1]/button[4]').text)\n",
    "\n",
    "for h in tqdm(range(npages), position = 0, desc='1st loop'):\n",
    "    \n",
    "    temp_df = pd.DataFrame()\n",
    "\n",
    "    #Title\n",
    "    titles=driver.find_elements(by=By.XPATH, value='//*[@class=\"jsx-1035818219 Card__Title font-base\"]')\n",
    "    for title in titles: temp.append(title.text)\n",
    "    \n",
    "    temp_df['Title'] = temp\n",
    "    temp.clear()\n",
    "\n",
    "    #Province\n",
    "    provinces=driver.find_elements(by=By.XPATH, value='//*[@class=\"jsx-1035818219 Card__InfoLocation font-base\"]/span')\n",
    "    for province in provinces: temp.append(province.text)\n",
    "    \n",
    "    temp_df['Province'] = temp\n",
    "    temp.clear()\n",
    "    \n",
    "    #Specs\n",
    "    specs=driver.find_elements(by=By.XPATH, value='//*[@class=\"jsx-1035818219 Card__InfoTag font-base\"]')\n",
    "    for spec in specs: temp.append(spec.text)\n",
    "    \n",
    "    while 'Unico proprietario' in temp: temp.remove('Unico proprietario')\n",
    "    while '2 Proprietari' in temp: temp.remove('2 Proprietari')\n",
    "    while '3 Proprietari' in temp: temp.remove('3 Proprietari')\n",
    "    while '4 Proprietari' in temp: temp.remove('4 Proprietari')\n",
    "    while 'Più di 4 Proprietari' in temp: temp.remove('Più di 4 Proprietari')\n",
    "        \n",
    "    size = len(temp) \n",
    "    idx_list = [idx for idx, val in enumerate(temp) if val == 'Usato'] \n",
    "    temp = [temp[i: j] for i, j in zip([0] + idx_list, idx_list + ([size] if idx_list[-1] != size else []))] \n",
    "    del temp[0:0 + 1]\n",
    "    temp = [i for i in temp if len(i)==5] #Quick fix font-bold\n",
    "    \n",
    "    temp_df = pd.concat([temp_df, pd.DataFrame(temp, columns=['Condition', 'Month_Year', 'Kms', 'Fuel', 'Transmission'])], axis=1)\n",
    "    temp.clear()\n",
    "    \n",
    "    #Price\n",
    "    prices=driver.find_elements(by=By.XPATH, value='//*[@class=\"jsx-1035818219 font-medium\"]')\n",
    "    for price in prices: temp.append(price.text)\n",
    "        \n",
    "    temp_df['Price']=temp\n",
    "    temp.clear()\n",
    "\n",
    "    #Append data to df\n",
    "    df = pd.concat([temp_df, df], axis=0, ignore_index=True)    \n",
    "    \n",
    "    #Switch to next page or close\n",
    "    if h < max(range(npages)):\n",
    "        driver.find_element(by=By.XPATH, value='//*[@class=\"jsx-2138479547 font-base xxsmall primary-orange styled\"]').click()\n",
    "        time.sleep(3)\n",
    "    else: driver.close()\n",
    "    \n",
    "  \n",
    "df.to_csv('fiat500_updated.tsv', sep='\\t', index=False)"
   ]
  },
  {
   "cell_type": "code",
   "execution_count": 37,
   "metadata": {},
   "outputs": [
    {
     "data": {
      "application/vnd.jupyter.widget-view+json": {
       "model_id": "7435e508253c47e6ab17536c4ca7cea1",
       "version_major": 2,
       "version_minor": 0
      },
      "text/plain": [
       "HBox(children=(FloatProgress(value=0.0, description='1st loop', max=158.0, style=ProgressStyle(description_wid…"
      ]
     },
     "metadata": {},
     "output_type": "display_data"
    },
    {
     "name": "stdout",
     "output_type": "stream",
     "text": [
      "\n",
      "CPU times: user 26.1 s, sys: 2.32 s, total: 28.4 s\n",
      "Wall time: 20min 55s\n"
     ]
    }
   ],
   "source": [
    "#Empty list and df\n",
    "temp = []\n",
    "df_ = pd.DataFrame(columns=['Title', 'Province','Condition', 'Month_Year', 'Kms', 'Fuel', 'Transmission', 'Price'])\n",
    "\n",
    "#Number of pages\n",
    "npages = int(driver.find_element_by_xpath('//*[@id=\"__next\"]/main/div[2]/div/div[4]/div[2]/div[3]/div[1]/button[4]').text)\n",
    "\n",
    "for h in tqdm(range(npages), position = 0, desc='1st loop'):\n",
    "    \n",
    "\n",
    "    #Title and Province\n",
    "    titles=driver.find_elements_by_xpath('//*[@class=\"jsx-3257049061 jsx-2759044879\"]')\n",
    "    for title in titles: temp.append(title.text)\n",
    "    \n",
    "    del temp[1::3]\n",
    "    temp = [temp[x:x+2] for x in range(0, len(temp),2)]\n",
    "    \n",
    "    #Dataframe and clear list\n",
    "    part_1 = pd.DataFrame(temp, columns=['Title', 'Province'])  \n",
    "    temp.clear()\n",
    "    \n",
    "    \n",
    "    #Specs\n",
    "    specs=driver.find_elements_by_xpath('//*[@class=\"jsx-3257049061 jsx-2759044879 Card__InfoTag font-base\"]')\n",
    "    for spec in specs: temp.append(spec.text)\n",
    "    \n",
    "    while 'Unico proprietario' in temp: temp.remove('Unico proprietario')\n",
    "    while '2 Proprietari' in temp: temp.remove('2 Proprietari')\n",
    "    while '3 Proprietari' in temp: temp.remove('3 Proprietari')\n",
    "    while '4 Proprietari' in temp: temp.remove('4 Proprietari')\n",
    "        \n",
    "    size = len(temp) \n",
    "    idx_list = [idx for idx, val in enumerate(temp) if val == 'Usato'] \n",
    "    temp = [temp[i: j] for i, j in zip([0] + idx_list, idx_list + ([size] if idx_list[-1] != size else []))] \n",
    "    del temp[0:0 + 1]\n",
    "    \n",
    "    #Dataframe and clear list\n",
    "    part_2 = pd.DataFrame(temp, columns=['Condition', 'Month_Year', 'Kms', 'Fuel', 'Transmission'])\n",
    "    temp.clear()\n",
    "    \n",
    "    \n",
    "    #Price\n",
    "    prices=driver.find_elements_by_xpath('//*[@class=\"jsx-3257049061 jsx-2759044879 Card__InfoPrice font-medium\"]')\n",
    "    for price in prices: temp.append(price.text)\n",
    "        \n",
    "    #Dataframe and clear list\n",
    "    part_3 = pd.DataFrame(temp, columns=['Price'])\n",
    "    temp.clear()\n",
    "    \n",
    "    \n",
    "    #Combine parts and append to dataframe\n",
    "    df = pd.concat([part_1.reset_index(drop=True), part_2.reset_index(drop=True), part_3.reset_index(drop=True)], axis=1)\n",
    "    df_ = df_.append(df, ignore_index = True)\n",
    "    \n",
    "    \n",
    "    #Switch to next page or close\n",
    "    if h < max(range(npages)):\n",
    "        driver.find_element_by_xpath('//*[@class=\"jsx-3190051910 font-base xxsmall primary-orange styled\"]').click()\n",
    "        time.sleep(3)\n",
    "    else: driver.close()\n",
    "    \n",
    "    \n",
    "#df_.to_csv('fiat500_prices.tsv', sep='\\t', index=False)"
   ]
  },
  {
   "cell_type": "markdown",
   "metadata": {},
   "source": [
    "<a id='cleansing' />\n",
    "\n",
    "## Data Cleansing\n",
    "[(back to top)](#content)"
   ]
  },
  {
   "cell_type": "code",
   "execution_count": 37,
   "metadata": {},
   "outputs": [],
   "source": [
    "fiat_500 = df\n",
    "fiat_500 = fiat_500.dropna().reset_index(drop=True)"
   ]
  },
  {
   "cell_type": "code",
   "execution_count": 77,
   "metadata": {},
   "outputs": [
    {
     "data": {
      "text/html": [
       "<div>\n",
       "<style scoped>\n",
       "    .dataframe tbody tr th:only-of-type {\n",
       "        vertical-align: middle;\n",
       "    }\n",
       "\n",
       "    .dataframe tbody tr th {\n",
       "        vertical-align: top;\n",
       "    }\n",
       "\n",
       "    .dataframe thead th {\n",
       "        text-align: right;\n",
       "    }\n",
       "</style>\n",
       "<table border=\"1\" class=\"dataframe\">\n",
       "  <thead>\n",
       "    <tr style=\"text-align: right;\">\n",
       "      <th></th>\n",
       "      <th>Title</th>\n",
       "      <th>Province</th>\n",
       "      <th>Condition</th>\n",
       "      <th>Month_Year</th>\n",
       "      <th>Kms</th>\n",
       "      <th>Fuel</th>\n",
       "      <th>Transmission</th>\n",
       "      <th>Owners</th>\n",
       "      <th>Price</th>\n",
       "    </tr>\n",
       "  </thead>\n",
       "  <tbody>\n",
       "    <tr>\n",
       "      <th>0</th>\n",
       "      <td>Fiat 500 abarth fiat 500e elettrica abarth pri...</td>\n",
       "      <td>Verona (VR)</td>\n",
       "      <td>Usato</td>\n",
       "      <td>Dicembre 2015</td>\n",
       "      <td>29.233 km</td>\n",
       "      <td>Elettrico</td>\n",
       "      <td>Automatico</td>\n",
       "      <td>NaN</td>\n",
       "      <td>€ 9.991</td>\n",
       "    </tr>\n",
       "    <tr>\n",
       "      <th>1</th>\n",
       "      <td>FIAT 500</td>\n",
       "      <td>Giugliano in Campania (NA)</td>\n",
       "      <td>Usato</td>\n",
       "      <td>Luglio 2013</td>\n",
       "      <td>51.000 km</td>\n",
       "      <td>Benzina - Euro 5</td>\n",
       "      <td>Manuale</td>\n",
       "      <td>NaN</td>\n",
       "      <td>€ 4.990</td>\n",
       "    </tr>\n",
       "    <tr>\n",
       "      <th>2</th>\n",
       "      <td>Fiat 500 1.2 69cv Collezione Tetto</td>\n",
       "      <td>Ciampino (RM)</td>\n",
       "      <td>Usato</td>\n",
       "      <td>Gennaio 2019</td>\n",
       "      <td>31.412 km</td>\n",
       "      <td>Benzina - Euro 6</td>\n",
       "      <td>Manuale</td>\n",
       "      <td>NaN</td>\n",
       "      <td>€ 9.980</td>\n",
       "    </tr>\n",
       "    <tr>\n",
       "      <th>3</th>\n",
       "      <td>FIAT 500 1.2 Lounge</td>\n",
       "      <td>Moncalieri (TO)</td>\n",
       "      <td>Usato</td>\n",
       "      <td>Aprile 2019</td>\n",
       "      <td>14.918 km</td>\n",
       "      <td>Benzina - Euro 6</td>\n",
       "      <td>Manuale</td>\n",
       "      <td>NaN</td>\n",
       "      <td>€ 9.900</td>\n",
       "    </tr>\n",
       "    <tr>\n",
       "      <th>4</th>\n",
       "      <td>FIAT 500 1.2 Lounge</td>\n",
       "      <td>Torino (TO)</td>\n",
       "      <td>Usato</td>\n",
       "      <td>Maggio 2019</td>\n",
       "      <td>18.539 km</td>\n",
       "      <td>Benzina - Euro 6</td>\n",
       "      <td>Manuale</td>\n",
       "      <td>NaN</td>\n",
       "      <td>€ 9.700</td>\n",
       "    </tr>\n",
       "  </tbody>\n",
       "</table>\n",
       "</div>"
      ],
      "text/plain": [
       "                                               Title  \\\n",
       "0  Fiat 500 abarth fiat 500e elettrica abarth pri...   \n",
       "1                                           FIAT 500   \n",
       "2                 Fiat 500 1.2 69cv Collezione Tetto   \n",
       "3                                FIAT 500 1.2 Lounge   \n",
       "4                                FIAT 500 1.2 Lounge   \n",
       "\n",
       "                     Province Condition     Month_Year        Kms  \\\n",
       "0                 Verona (VR)     Usato  Dicembre 2015  29.233 km   \n",
       "1  Giugliano in Campania (NA)     Usato    Luglio 2013  51.000 km   \n",
       "2               Ciampino (RM)     Usato   Gennaio 2019  31.412 km   \n",
       "3             Moncalieri (TO)     Usato    Aprile 2019  14.918 km   \n",
       "4                 Torino (TO)     Usato    Maggio 2019  18.539 km   \n",
       "\n",
       "               Fuel Transmission  Owners    Price  \n",
       "0         Elettrico   Automatico     NaN  € 9.991  \n",
       "1  Benzina - Euro 5      Manuale     NaN  € 4.990  \n",
       "2  Benzina - Euro 6      Manuale     NaN  € 9.980  \n",
       "3  Benzina - Euro 6      Manuale     NaN  € 9.900  \n",
       "4  Benzina - Euro 6      Manuale     NaN  € 9.700  "
      ]
     },
     "execution_count": 77,
     "metadata": {},
     "output_type": "execute_result"
    }
   ],
   "source": [
    "fiat_500=pd.read_csv('fiat500_prices.tsv', sep='\\t')\n",
    "\n",
    "fiat_500.head()"
   ]
  },
  {
   "cell_type": "code",
   "execution_count": 38,
   "metadata": {},
   "outputs": [],
   "source": [
    "conditions = [fiat_500['Title'].str.contains('Lounge', case=False), \n",
    "              fiat_500['Title'].str.contains('Pop', case=False), \n",
    "              fiat_500['Title'].str.contains('Collezione', case=False), \n",
    "              fiat_500['Title'].str.contains('Star', case=False), \n",
    "              fiat_500['Title'].str.contains('Sport', case=False), \n",
    "              fiat_500['Title'].str.contains('S ', case=False), \n",
    "              fiat_500['Title'].str.contains(' S', case=False),  \n",
    "              fiat_500['Title'].str.contains('\"S\"', case=False)]\n",
    "\n",
    "choices = ['Lounge', 'Pop', 'Collezione', 'Star', 'Sport', 'Sport', 'Sport', 'Sport']\n",
    "\n",
    "fiat_500['Version'] = np.select(conditions, choices, default='None')"
   ]
  },
  {
   "cell_type": "code",
   "execution_count": 39,
   "metadata": {},
   "outputs": [],
   "source": [
    "fiat_500['Kms'] = [str(i).replace(' km','') for i in fiat_500['Kms']]\n",
    "fiat_500['Kms'] = pd.to_numeric(fiat_500['Kms'])*1000\n",
    "\n",
    "fiat_500['Price'] = [i.replace('€ ','') for i in fiat_500['Price']]\n",
    "fiat_500['Price'] = pd.to_numeric(fiat_500['Price'])*1000\n",
    "\n",
    "fiat_500['Fuel'] = [i.replace(' - Euro ','') for i in fiat_500['Fuel']]\n",
    "fiat_500['Fuel'] = fiat_500['Fuel'].str.replace('\\d+', '', regex=True)\n",
    "\n",
    "fiat_500['Year'] = fiat_500['Month_Year'].str.strip().str[-4:]\n",
    "fiat_500['Year'] = pd.to_numeric(fiat_500['Year'])"
   ]
  },
  {
   "cell_type": "code",
   "execution_count": 40,
   "metadata": {},
   "outputs": [],
   "source": [
    "provinces = pd.read_csv('it_provinces.csv', sep=';',  keep_default_na=False)\n",
    "\n",
    "fiat_500['Province'] = fiat_500['Province'].str.strip().str[-3:-1]\n",
    "fiat_500 = fiat_500.merge(provinces, on='Province', how='left')"
   ]
  },
  {
   "cell_type": "code",
   "execution_count": 41,
   "metadata": {},
   "outputs": [
    {
     "data": {
      "text/html": [
       "<div>\n",
       "<style scoped>\n",
       "    .dataframe tbody tr th:only-of-type {\n",
       "        vertical-align: middle;\n",
       "    }\n",
       "\n",
       "    .dataframe tbody tr th {\n",
       "        vertical-align: top;\n",
       "    }\n",
       "\n",
       "    .dataframe thead th {\n",
       "        text-align: right;\n",
       "    }\n",
       "</style>\n",
       "<table border=\"1\" class=\"dataframe\">\n",
       "  <thead>\n",
       "    <tr style=\"text-align: right;\">\n",
       "      <th></th>\n",
       "      <th>Title</th>\n",
       "      <th>Province</th>\n",
       "      <th>Condition</th>\n",
       "      <th>Month_Year</th>\n",
       "      <th>Kms</th>\n",
       "      <th>Fuel</th>\n",
       "      <th>Transmission</th>\n",
       "      <th>Price</th>\n",
       "      <th>Version</th>\n",
       "      <th>Year</th>\n",
       "      <th>Name</th>\n",
       "      <th>Region</th>\n",
       "    </tr>\n",
       "  </thead>\n",
       "  <tbody>\n",
       "    <tr>\n",
       "      <th>0</th>\n",
       "      <td>FIAT 500 1.2 Lounge OK NEOPATENTATI</td>\n",
       "      <td>PU</td>\n",
       "      <td>Usato</td>\n",
       "      <td>Aprile 2011</td>\n",
       "      <td>150000.0</td>\n",
       "      <td>Benzina</td>\n",
       "      <td>Manuale</td>\n",
       "      <td>7700.0</td>\n",
       "      <td>Lounge</td>\n",
       "      <td>2011</td>\n",
       "      <td>Pesaro e Urbino</td>\n",
       "      <td>Marche</td>\n",
       "    </tr>\n",
       "    <tr>\n",
       "      <th>1</th>\n",
       "      <td>FIAT 500 1.2 Lounge</td>\n",
       "      <td>AR</td>\n",
       "      <td>Usato</td>\n",
       "      <td>Giugno 2017</td>\n",
       "      <td>47000.0</td>\n",
       "      <td>Benzina</td>\n",
       "      <td>Manuale</td>\n",
       "      <td>12600.0</td>\n",
       "      <td>Lounge</td>\n",
       "      <td>2017</td>\n",
       "      <td>Arezzo</td>\n",
       "      <td>Toscana</td>\n",
       "    </tr>\n",
       "    <tr>\n",
       "      <th>4</th>\n",
       "      <td>FIAT 500 1.3 Multijet 16V 95 CV Lounge</td>\n",
       "      <td>PG</td>\n",
       "      <td>Usato</td>\n",
       "      <td>Marzo 2011</td>\n",
       "      <td>191400.0</td>\n",
       "      <td>Diesel</td>\n",
       "      <td>Manuale</td>\n",
       "      <td>7800.0</td>\n",
       "      <td>Lounge</td>\n",
       "      <td>2011</td>\n",
       "      <td>Perugia</td>\n",
       "      <td>Umbria</td>\n",
       "    </tr>\n",
       "    <tr>\n",
       "      <th>5</th>\n",
       "      <td>FIAT 500 500 1.3 MJT 75 CV Lounge Bianco Perla</td>\n",
       "      <td>PU</td>\n",
       "      <td>Usato</td>\n",
       "      <td>Febbraio 2009</td>\n",
       "      <td>180000.0</td>\n",
       "      <td>Diesel</td>\n",
       "      <td>Manuale</td>\n",
       "      <td>6999.0</td>\n",
       "      <td>Lounge</td>\n",
       "      <td>2009</td>\n",
       "      <td>Pesaro e Urbino</td>\n",
       "      <td>Marche</td>\n",
       "    </tr>\n",
       "    <tr>\n",
       "      <th>6</th>\n",
       "      <td>FIAT 500 1.2 Sport Cambio Automatico DFN Blue&amp;Me</td>\n",
       "      <td>TA</td>\n",
       "      <td>Usato</td>\n",
       "      <td>Febbraio 2009</td>\n",
       "      <td>132670.0</td>\n",
       "      <td>Benzina</td>\n",
       "      <td>Automatico</td>\n",
       "      <td>6890.0</td>\n",
       "      <td>Sport</td>\n",
       "      <td>2009</td>\n",
       "      <td>Taranto</td>\n",
       "      <td>Puglia</td>\n",
       "    </tr>\n",
       "  </tbody>\n",
       "</table>\n",
       "</div>"
      ],
      "text/plain": [
       "                                              Title Province Condition  \\\n",
       "0               FIAT 500 1.2 Lounge OK NEOPATENTATI       PU     Usato   \n",
       "1                               FIAT 500 1.2 Lounge       AR     Usato   \n",
       "4            FIAT 500 1.3 Multijet 16V 95 CV Lounge       PG     Usato   \n",
       "5    FIAT 500 500 1.3 MJT 75 CV Lounge Bianco Perla       PU     Usato   \n",
       "6  FIAT 500 1.2 Sport Cambio Automatico DFN Blue&Me       TA     Usato   \n",
       "\n",
       "      Month_Year       Kms     Fuel Transmission    Price Version  Year  \\\n",
       "0    Aprile 2011  150000.0  Benzina      Manuale   7700.0  Lounge  2011   \n",
       "1    Giugno 2017   47000.0  Benzina      Manuale  12600.0  Lounge  2017   \n",
       "4     Marzo 2011  191400.0   Diesel      Manuale   7800.0  Lounge  2011   \n",
       "5  Febbraio 2009  180000.0   Diesel      Manuale   6999.0  Lounge  2009   \n",
       "6  Febbraio 2009  132670.0  Benzina   Automatico   6890.0   Sport  2009   \n",
       "\n",
       "              Name   Region  \n",
       "0  Pesaro e Urbino   Marche  \n",
       "1           Arezzo  Toscana  \n",
       "4          Perugia   Umbria  \n",
       "5  Pesaro e Urbino   Marche  \n",
       "6          Taranto   Puglia  "
      ]
     },
     "execution_count": 41,
     "metadata": {},
     "output_type": "execute_result"
    }
   ],
   "source": [
    "fiat_500 = fiat_500[~fiat_500['Title'].str.contains('Abarth', case=False)]\n",
    "fiat_500 = fiat_500[~fiat_500['Title'].str.contains('C ', case=False)]\n",
    "fiat_500 = fiat_500[fiat_500['Version']!='None']\n",
    "\n",
    "fiat_500.drop(['Month_Year', 'Condition', 'Province', 'Name', 'Title'], axis=1)\n",
    "\n",
    "#fiat_500=fiat_500.drop_duplicates()\n",
    "\n",
    "fiat_500.head()\n",
    "\n",
    "#Verificare risultato finale"
   ]
  },
  {
   "cell_type": "markdown",
   "metadata": {},
   "source": [
    "<a id='eda' />\n",
    "\n",
    "## EDA\n",
    "[(back to top)](#content)"
   ]
  },
  {
   "cell_type": "code",
   "execution_count": 82,
   "metadata": {},
   "outputs": [
    {
     "name": "stdout",
     "output_type": "stream",
     "text": [
      "<class 'pandas.core.frame.DataFrame'>\n",
      "Int64Index: 2489 entries, 2 to 3148\n",
      "Data columns (total 7 columns):\n",
      " #   Column        Non-Null Count  Dtype  \n",
      "---  ------        --------------  -----  \n",
      " 0   Kms           2489 non-null   float64\n",
      " 1   Fuel          2489 non-null   object \n",
      " 2   Transmission  2483 non-null   object \n",
      " 3   Price         2489 non-null   float64\n",
      " 4   Version       2489 non-null   object \n",
      " 5   Year          2489 non-null   int64  \n",
      " 6   Region        2488 non-null   object \n",
      "dtypes: float64(2), int64(1), object(4)\n",
      "memory usage: 155.6+ KB\n"
     ]
    }
   ],
   "source": [
    "fiat_500.info()"
   ]
  },
  {
   "cell_type": "code",
   "execution_count": 87,
   "metadata": {},
   "outputs": [
    {
     "data": {
      "image/png": "[encoded data removed]",
      "text/plain": [
       "<Figure size 1800x720 with 2 Axes>"
      ]
     },
     "metadata": {
      "needs_background": "light"
     },
     "output_type": "display_data"
    }
   ],
   "source": [
    "#Distribucion en variables numericas\n",
    "temp = fiat_500.drop('Price', axis=1).select_dtypes(['int64','float64'])\n",
    "\n",
    "fig, axes = plt.subplots(2,1, figsize=(25,10))\n",
    "axes = np.ravel(axes)\n",
    "\n",
    "for h,i in enumerate(temp.columns):\n",
    "    sns.histplot(data=temp[i], ax=axes[h])"
   ]
  },
  {
   "cell_type": "code",
   "execution_count": 89,
   "metadata": {},
   "outputs": [
    {
     "data": {
      "text/plain": [
       "<AxesSubplot:>"
      ]
     },
     "execution_count": 89,
     "metadata": {},
     "output_type": "execute_result"
    },
    {
     "data": {
      "image/png": "[encoded data removed]",
      "text/plain": [
       "<Figure size 1440x720 with 2 Axes>"
      ]
     },
     "metadata": {
      "needs_background": "light"
     },
     "output_type": "display_data"
    }
   ],
   "source": [
    "#Correlacion entre variables numericas y variable objetivo\n",
    "plt.figure(figsize=(20, 10))\n",
    "sns.heatmap(fiat_500.select_dtypes(['int64','float64']).corr(method='spearman'), annot = True)"
   ]
  },
  {
   "cell_type": "code",
   "execution_count": 90,
   "metadata": {},
   "outputs": [
    {
     "data": {
      "image/png": "[encoded data removed]",
      "text/plain": [
       "<Figure size 1800x720 with 4 Axes>"
      ]
     },
     "metadata": {
      "needs_background": "light"
     },
     "output_type": "display_data"
    }
   ],
   "source": [
    "#Distribucion en variables categoricas\n",
    "temp = fiat_500.select_dtypes('object')\n",
    "\n",
    "fig, axes = plt.subplots(2,2, figsize=(25,10))\n",
    "axes = np.ravel(axes)\n",
    "\n",
    "for h,i in enumerate(temp.columns):\n",
    "    sns.countplot(data=temp, x=i, ax=axes[h])"
   ]
  },
  {
   "cell_type": "markdown",
   "metadata": {},
   "source": [
    "<a id='processing' />\n",
    "\n",
    "## Preprocessing\n",
    "[(back to top)](#content)"
   ]
  },
  {
   "cell_type": "code",
   "execution_count": null,
   "metadata": {},
   "outputs": [],
   "source": []
  },
  {
   "cell_type": "code",
   "execution_count": 9,
   "metadata": {},
   "outputs": [],
   "source": [
    "fiat_500 = fiat_500[(np.abs(stats.zscore(fiat_500[['Price','Kms']])) < 4).all(axis=1)].reset_index(drop=True)"
   ]
  },
  {
   "cell_type": "code",
   "execution_count": 10,
   "metadata": {},
   "outputs": [],
   "source": [
    "# split into X and Y\n",
    "X = fiat_500.loc[:, fiat_500.columns != 'Price']\n",
    "Y = fiat_500.loc[:, fiat_500.columns == 'Price']"
   ]
  },
  {
   "cell_type": "code",
   "execution_count": 11,
   "metadata": {},
   "outputs": [],
   "source": [
    "# creating dummy variables for categorical variables\n",
    "fiat_categorical = X.select_dtypes(include=['object'])\n",
    "\n",
    "fiat_dummies = pd.get_dummies(fiat_categorical, drop_first=True)"
   ]
  },
  {
   "cell_type": "code",
   "execution_count": 13,
   "metadata": {},
   "outputs": [],
   "source": [
    "# drop categorical variables \n",
    "X = X.drop(list(fiat_categorical.columns), axis=1)\n",
    "\n",
    "# concat dummy variables with X\n",
    "X = pd.concat([X, fiat_dummies], axis=1)"
   ]
  },
  {
   "cell_type": "code",
   "execution_count": 15,
   "metadata": {},
   "outputs": [
    {
     "data": {
      "text/plain": [
       "Index(['Kms', 'Fuel_Benzina', 'Fuel_Diesel', 'Fuel_Elettrico', 'Fuel_Euro ',\n",
       "       'Fuel_GPL', 'Fuel_Ibrido', 'Fuel_Manuale', 'Fuel_Metano',\n",
       "       'Transmission_Manuale', 'Version_Lounge', 'Version_Pop',\n",
       "       'Version_Sport', 'Version_Star', 'Year_2008', 'Year_2009', 'Year_2010',\n",
       "       'Year_2011', 'Year_2012', 'Year_2013', 'Year_2014', 'Year_2015',\n",
       "       'Year_2016', 'Year_2017', 'Year_2018', 'Year_2019', 'Year_2020',\n",
       "       'Region_Basilicata', 'Region_Calabria', 'Region_Campania',\n",
       "       'Region_Emilia-Romagna', 'Region_Friuli-Venezia Giulia', 'Region_Lazio',\n",
       "       'Region_Liguria', 'Region_Lombardia', 'Region_Marche', 'Region_Molise',\n",
       "       'Region_Piemonte', 'Region_Puglia', 'Region_Sardegna', 'Region_Sicilia',\n",
       "       'Region_Toscana', 'Region_Trentino-Alto Adige', 'Region_Umbria',\n",
       "       'Region_Valle d'Aosta', 'Region_Veneto'],\n",
       "      dtype='object')"
      ]
     },
     "execution_count": 15,
     "metadata": {},
     "output_type": "execute_result"
    }
   ],
   "source": [
    "# scaling the features\n",
    "from sklearn.preprocessing import scale\n",
    "\n",
    "# storing column names in cols, since column names are (annoyingly) lost after \n",
    "# scaling (the df is converted to a numpy array)\n",
    "cols = X.columns\n",
    "X = pd.DataFrame(scale(X))\n",
    "X.columns = cols\n",
    "X.columns"
   ]
  },
  {
   "cell_type": "code",
   "execution_count": 20,
   "metadata": {},
   "outputs": [],
   "source": [
    "# split into train and test\n",
    "from sklearn.model_selection import train_test_split\n",
    "X_train, X_test, y_train, y_test = train_test_split(X, Y, \n",
    "                                                    train_size=0.7,\n",
    "                                                    test_size = 0.3, random_state=100)"
   ]
  },
  {
   "cell_type": "code",
   "execution_count": 22,
   "metadata": {},
   "outputs": [],
   "source": [
    "from sklearn import linear_model\n",
    "from sklearn.linear_model import LinearRegression"
   ]
  },
  {
   "cell_type": "code",
   "execution_count": 23,
   "metadata": {},
   "outputs": [
    {
     "data": {
      "text/plain": [
       "LinearRegression()"
      ]
     },
     "execution_count": 23,
     "metadata": {},
     "output_type": "execute_result"
    }
   ],
   "source": [
    "# Building the first model with all the features\n",
    "\n",
    "# instantiate\n",
    "lm = LinearRegression()\n",
    "\n",
    "# fit\n",
    "lm.fit(X_train, y_train)"
   ]
  },
  {
   "cell_type": "code",
   "execution_count": 24,
   "metadata": {},
   "outputs": [
    {
     "name": "stdout",
     "output_type": "stream",
     "text": [
      "[[-7.61928197e+02 -6.11170081e+02 -1.28563695e+02 -1.12056244e+02\n",
      "  -4.00785360e+01 -2.50900406e+02 -1.50074697e+02 -5.52005454e+01\n",
      "  -2.80640348e+01 -1.59605540e+02 -8.15248264e+01 -3.28689422e+02\n",
      "   1.51072402e+02  1.25009428e+02  1.35979725e+02  1.28542826e+02\n",
      "   2.33670005e+02  2.61766926e+02  2.71500316e+02  4.00243494e+02\n",
      "   4.14229718e+02  5.25845735e+02  7.13392244e+02  1.11923416e+03\n",
      "   1.23949624e+03  2.17134026e+03  1.85313887e+03  3.88690431e+01\n",
      "  -2.04481491e+01 -1.84178926e+02 -1.31619970e+01 -6.79583895e+00\n",
      "  -2.25862991e+02 -3.44577860e+01 -9.84923675e+01  3.55606031e+00\n",
      "  -1.32403671e+02 -1.25569984e+02 -1.83934495e+01  6.18769053e+01\n",
      "   1.52905097e+00  3.87237145e+00  3.57363309e+01  8.84905428e+01\n",
      "  -1.68986614e+01 -1.22520067e+02]]\n",
      "[9491.02229203]\n"
     ]
    }
   ],
   "source": [
    "# print coefficients and intercept\n",
    "print(lm.coef_)\n",
    "print(lm.intercept_)"
   ]
  },
  {
   "cell_type": "code",
   "execution_count": 25,
   "metadata": {},
   "outputs": [
    {
     "name": "stdout",
     "output_type": "stream",
     "text": [
      "0.8708753205620077\n"
     ]
    }
   ],
   "source": [
    "# predict \n",
    "y_pred = lm.predict(X_test)\n",
    "\n",
    "# metrics\n",
    "from sklearn.metrics import r2_score\n",
    "\n",
    "print(r2_score(y_true=y_test, y_pred=y_pred))"
   ]
  },
  {
   "cell_type": "code",
   "execution_count": null,
   "metadata": {},
   "outputs": [],
   "source": []
  },
  {
   "cell_type": "code",
   "execution_count": null,
   "metadata": {},
   "outputs": [],
   "source": []
  },
  {
   "cell_type": "code",
   "execution_count": null,
   "metadata": {},
   "outputs": [],
   "source": []
  },
  {
   "cell_type": "code",
   "execution_count": null,
   "metadata": {},
   "outputs": [],
   "source": []
  },
  {
   "cell_type": "code",
   "execution_count": null,
   "metadata": {},
   "outputs": [],
   "source": []
  },
  {
   "cell_type": "code",
   "execution_count": null,
   "metadata": {},
   "outputs": [],
   "source": []
  },
  {
   "cell_type": "code",
   "execution_count": null,
   "metadata": {},
   "outputs": [],
   "source": []
  },
  {
   "cell_type": "code",
   "execution_count": null,
   "metadata": {},
   "outputs": [],
   "source": []
  },
  {
   "cell_type": "code",
   "execution_count": null,
   "metadata": {},
   "outputs": [],
   "source": []
  },
  {
   "cell_type": "code",
   "execution_count": null,
   "metadata": {},
   "outputs": [],
   "source": [
    "#https://towardsdatascience.com/predicting-car-price-using-machine-learning-8d2df3898f16"
   ]
  }
 ],
 "metadata": {
  "kernelspec": {
   "display_name": "Python 3",
   "language": "python",
   "name": "python3"
  },
  "language_info": {
   "codemirror_mode": {
    "name": "ipython",
    "version": 3
   },
   "file_extension": ".py",
   "mimetype": "text/x-python",
   "name": "python",
   "nbconvert_exporter": "python",
   "pygments_lexer": "ipython3",
   "version": "3.9.6"
  }
 },
 "nbformat": 4,
 "nbformat_minor": 4
}
