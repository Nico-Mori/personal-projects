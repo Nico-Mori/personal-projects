{
 "cells": [
  {
   "cell_type": "markdown",
   "metadata": {},
   "source": [
    "# The Big Mac Index - Exploratory Data Analysis\n",
    "## Skills: Python, Pandas, Matplotlib\n",
    "\n",
    "Download the Jupyter Notebook from [GitHub](https://nicomoriuala.github.io)"
   ]
  },
  {
   "cell_type": "markdown",
   "metadata": {},
   "source": [
    "<a id='content' />\n",
    "\n",
    "## Contents\n",
    "\n",
    "1. [Introduction](#introduction)\n",
    "2. [Burgernomics across time](#time_evol)\n",
    "3. [Burgernomics in 2020](#present)\n",
    "4. [Bonus track: currency volatility](#volatility)"
   ]
  },
  {
   "cell_type": "markdown",
   "metadata": {},
   "source": [
    "<a id='introduction' />\n",
    "\n",
    "## Introduction\n",
    "[(back to top)](#content)\n",
    "\n",
    "[The Economist's Big Mac Index](https://www.economist.com/news/2020/07/15/the-big-mac-index) was invented in 1986 as a lighthearted guide to whether currencies are at their “correct” level. It is based on the theory of purchasing-power parity (PPP), the notion that in the long run exchange rates should move towards the rate that would equalise the prices of an identical basket of goods and services (in this case, a burger) in any two countries.\n",
    "\n",
    "Burgernomics was never intended as a precise gauge of currency misalignment, merely a tool to make exchange-rate theory more digestible. Yet the Big Mac index has become a global standard, included in several economic textbooks and the subject of dozens of academic studies.\n",
    "\n",
    "In this project we will take a look at how the Big Mac index evolved in the last 20 years and draw some insights from the last edition, published in July 2020."
   ]
  },
  {
   "cell_type": "code",
   "execution_count": 1,
   "metadata": {},
   "outputs": [],
   "source": [
    "#Importing libraries\n",
    "import numpy as np\n",
    "import pandas as pd\n",
    "import matplotlib.pyplot as plt\n",
    "import seaborn as sns\n",
    "\n",
    "#Setting some default visualization parameters\n",
    "%matplotlib inline\n",
    "plt.rcParams['figure.figsize'] = (8, 5)\n",
    "sns.set_style('whitegrid')"
   ]
  },
  {
   "cell_type": "markdown",
   "metadata": {},
   "source": [
    "The Economist has made the data for the index (along with the scripts used for the calculations) available in their [repository in GitHub](https://github.com/TheEconomist/big-mac-data). A list with the continent of each country that appears in the index will be added the allow further analysis."
   ]
  },
  {
   "cell_type": "code",
   "execution_count": 2,
   "metadata": {},
   "outputs": [
    {
     "data": {
      "text/html": [
       "<div>\n",
       "<style scoped>\n",
       "    .dataframe tbody tr th:only-of-type {\n",
       "        vertical-align: middle;\n",
       "    }\n",
       "\n",
       "    .dataframe tbody tr th {\n",
       "        vertical-align: top;\n",
       "    }\n",
       "\n",
       "    .dataframe thead th {\n",
       "        text-align: right;\n",
       "    }\n",
       "</style>\n",
       "<table border=\"1\" class=\"dataframe\">\n",
       "  <thead>\n",
       "    <tr style=\"text-align: right;\">\n",
       "      <th></th>\n",
       "      <th>date</th>\n",
       "      <th>iso_a3</th>\n",
       "      <th>currency_code</th>\n",
       "      <th>name</th>\n",
       "      <th>local_price</th>\n",
       "      <th>dollar_ex</th>\n",
       "      <th>dollar_price</th>\n",
       "      <th>USD_raw</th>\n",
       "      <th>EUR_raw</th>\n",
       "      <th>GBP_raw</th>\n",
       "      <th>JPY_raw</th>\n",
       "      <th>CNY_raw</th>\n",
       "      <th>GDP_dollar</th>\n",
       "      <th>adj_price</th>\n",
       "      <th>USD_adjusted</th>\n",
       "      <th>EUR_adjusted</th>\n",
       "      <th>GBP_adjusted</th>\n",
       "      <th>JPY_adjusted</th>\n",
       "      <th>CNY_adjusted</th>\n",
       "      <th>continent</th>\n",
       "    </tr>\n",
       "  </thead>\n",
       "  <tbody>\n",
       "    <tr>\n",
       "      <td>1381</td>\n",
       "      <td>2020-07-01</td>\n",
       "      <td>UKR</td>\n",
       "      <td>UAH</td>\n",
       "      <td>Ukraine</td>\n",
       "      <td>59.00</td>\n",
       "      <td>27.1300</td>\n",
       "      <td>2.174714</td>\n",
       "      <td>-0.61914</td>\n",
       "      <td>-0.54562</td>\n",
       "      <td>-0.49157</td>\n",
       "      <td>-0.40181</td>\n",
       "      <td>-0.29813</td>\n",
       "      <td>NaN</td>\n",
       "      <td>NaN</td>\n",
       "      <td>NaN</td>\n",
       "      <td>NaN</td>\n",
       "      <td>NaN</td>\n",
       "      <td>NaN</td>\n",
       "      <td>NaN</td>\n",
       "      <td>Europe</td>\n",
       "    </tr>\n",
       "    <tr>\n",
       "      <td>1382</td>\n",
       "      <td>2020-07-01</td>\n",
       "      <td>URY</td>\n",
       "      <td>UYU</td>\n",
       "      <td>Uruguay</td>\n",
       "      <td>189.00</td>\n",
       "      <td>43.6750</td>\n",
       "      <td>4.327418</td>\n",
       "      <td>-0.24213</td>\n",
       "      <td>-0.09584</td>\n",
       "      <td>0.01171</td>\n",
       "      <td>0.19032</td>\n",
       "      <td>0.39664</td>\n",
       "      <td>NaN</td>\n",
       "      <td>NaN</td>\n",
       "      <td>NaN</td>\n",
       "      <td>NaN</td>\n",
       "      <td>NaN</td>\n",
       "      <td>NaN</td>\n",
       "      <td>NaN</td>\n",
       "      <td>America</td>\n",
       "    </tr>\n",
       "    <tr>\n",
       "      <td>1383</td>\n",
       "      <td>2020-07-01</td>\n",
       "      <td>USA</td>\n",
       "      <td>USD</td>\n",
       "      <td>United States</td>\n",
       "      <td>5.71</td>\n",
       "      <td>1.0000</td>\n",
       "      <td>5.710000</td>\n",
       "      <td>0.00000</td>\n",
       "      <td>0.19303</td>\n",
       "      <td>0.33494</td>\n",
       "      <td>0.57062</td>\n",
       "      <td>0.84286</td>\n",
       "      <td>62868.917</td>\n",
       "      <td>5.174502</td>\n",
       "      <td>0.000</td>\n",
       "      <td>-0.019</td>\n",
       "      <td>0.122</td>\n",
       "      <td>0.279</td>\n",
       "      <td>0.070</td>\n",
       "      <td>America</td>\n",
       "    </tr>\n",
       "    <tr>\n",
       "      <td>1384</td>\n",
       "      <td>2020-07-01</td>\n",
       "      <td>VNM</td>\n",
       "      <td>VND</td>\n",
       "      <td>Vietnam</td>\n",
       "      <td>66000.00</td>\n",
       "      <td>23180.0000</td>\n",
       "      <td>2.847282</td>\n",
       "      <td>-0.50135</td>\n",
       "      <td>-0.40510</td>\n",
       "      <td>-0.33433</td>\n",
       "      <td>-0.21681</td>\n",
       "      <td>-0.08106</td>\n",
       "      <td>NaN</td>\n",
       "      <td>NaN</td>\n",
       "      <td>NaN</td>\n",
       "      <td>NaN</td>\n",
       "      <td>NaN</td>\n",
       "      <td>NaN</td>\n",
       "      <td>NaN</td>\n",
       "      <td>Asia</td>\n",
       "    </tr>\n",
       "    <tr>\n",
       "      <td>1385</td>\n",
       "      <td>2020-07-01</td>\n",
       "      <td>ZAF</td>\n",
       "      <td>ZAR</td>\n",
       "      <td>South Africa</td>\n",
       "      <td>31.00</td>\n",
       "      <td>16.6725</td>\n",
       "      <td>1.859349</td>\n",
       "      <td>-0.67437</td>\n",
       "      <td>-0.61151</td>\n",
       "      <td>-0.56530</td>\n",
       "      <td>-0.48856</td>\n",
       "      <td>-0.39991</td>\n",
       "      <td>6353.846</td>\n",
       "      <td>2.871878</td>\n",
       "      <td>-0.413</td>\n",
       "      <td>-0.425</td>\n",
       "      <td>-0.342</td>\n",
       "      <td>-0.249</td>\n",
       "      <td>-0.372</td>\n",
       "      <td>Africa</td>\n",
       "    </tr>\n",
       "  </tbody>\n",
       "</table>\n",
       "</div>"
      ],
      "text/plain": [
       "            date iso_a3 currency_code           name  local_price   dollar_ex  \\\n",
       "1381  2020-07-01    UKR           UAH        Ukraine        59.00     27.1300   \n",
       "1382  2020-07-01    URY           UYU        Uruguay       189.00     43.6750   \n",
       "1383  2020-07-01    USA           USD  United States         5.71      1.0000   \n",
       "1384  2020-07-01    VNM           VND        Vietnam     66000.00  23180.0000   \n",
       "1385  2020-07-01    ZAF           ZAR   South Africa        31.00     16.6725   \n",
       "\n",
       "      dollar_price  USD_raw  EUR_raw  GBP_raw  JPY_raw  CNY_raw  GDP_dollar  \\\n",
       "1381      2.174714 -0.61914 -0.54562 -0.49157 -0.40181 -0.29813         NaN   \n",
       "1382      4.327418 -0.24213 -0.09584  0.01171  0.19032  0.39664         NaN   \n",
       "1383      5.710000  0.00000  0.19303  0.33494  0.57062  0.84286   62868.917   \n",
       "1384      2.847282 -0.50135 -0.40510 -0.33433 -0.21681 -0.08106         NaN   \n",
       "1385      1.859349 -0.67437 -0.61151 -0.56530 -0.48856 -0.39991    6353.846   \n",
       "\n",
       "      adj_price  USD_adjusted  EUR_adjusted  GBP_adjusted  JPY_adjusted  \\\n",
       "1381        NaN           NaN           NaN           NaN           NaN   \n",
       "1382        NaN           NaN           NaN           NaN           NaN   \n",
       "1383   5.174502         0.000        -0.019         0.122         0.279   \n",
       "1384        NaN           NaN           NaN           NaN           NaN   \n",
       "1385   2.871878        -0.413        -0.425        -0.342        -0.249   \n",
       "\n",
       "      CNY_adjusted continent  \n",
       "1381           NaN    Europe  \n",
       "1382           NaN   America  \n",
       "1383         0.070   America  \n",
       "1384           NaN      Asia  \n",
       "1385        -0.372    Africa  "
      ]
     },
     "metadata": {},
     "output_type": "display_data"
    },
    {
     "name": "stdout",
     "output_type": "stream",
     "text": [
      "<class 'pandas.core.frame.DataFrame'>\n",
      "Int64Index: 1386 entries, 0 to 1385\n",
      "Data columns (total 20 columns):\n",
      "date             1386 non-null object\n",
      "iso_a3           1386 non-null object\n",
      "currency_code    1386 non-null object\n",
      "name             1386 non-null object\n",
      "local_price      1386 non-null float64\n",
      "dollar_ex        1386 non-null float64\n",
      "dollar_price     1386 non-null float64\n",
      "USD_raw          1386 non-null float64\n",
      "EUR_raw          1386 non-null float64\n",
      "GBP_raw          1386 non-null float64\n",
      "JPY_raw          1386 non-null float64\n",
      "CNY_raw          1386 non-null float64\n",
      "GDP_dollar       702 non-null float64\n",
      "adj_price        702 non-null float64\n",
      "USD_adjusted     702 non-null float64\n",
      "EUR_adjusted     702 non-null float64\n",
      "GBP_adjusted     702 non-null float64\n",
      "JPY_adjusted     702 non-null float64\n",
      "CNY_adjusted     702 non-null float64\n",
      "continent        1386 non-null object\n",
      "dtypes: float64(15), object(5)\n",
      "memory usage: 227.4+ KB\n"
     ]
    }
   ],
   "source": [
    "# Loading The Economist's and the continent datasets\n",
    "dfbigmac = pd.read_csv('Datasets/big-mac-full-index.csv')\n",
    "continents = pd.read_csv('Datasets/continents.csv', delimiter=';')\n",
    "\n",
    "#Merging\n",
    "dfbigmac = dfbigmac.merge(continents, how='left', left_on='name', right_on='name')\n",
    "\n",
    "#Quick inspection\n",
    "display(dfbigmac.tail())\n",
    "dfbigmac.info()"
   ]
  },
  {
   "cell_type": "markdown",
   "metadata": {},
   "source": [
    "The table above shows that the GDP and adjusted columns have missing values. This is because the adjusted index (based on the GDP per capita) was introduced in July 2011 and has a reduced number of countries, while the full index sometimes add or remove countries.\n",
    "\n",
    "The index is calculated over 5 'base' currencies, but to keep it simple we will only analyze the one based on the US dollar (which is also the most representative), dropping the other ones. Country and currency codes will be also dropped.  "
   ]
  },
  {
   "cell_type": "code",
   "execution_count": 3,
   "metadata": {},
   "outputs": [
    {
     "data": {
      "text/html": [
       "<div>\n",
       "<style scoped>\n",
       "    .dataframe tbody tr th:only-of-type {\n",
       "        vertical-align: middle;\n",
       "    }\n",
       "\n",
       "    .dataframe tbody tr th {\n",
       "        vertical-align: top;\n",
       "    }\n",
       "\n",
       "    .dataframe thead th {\n",
       "        text-align: right;\n",
       "    }\n",
       "</style>\n",
       "<table border=\"1\" class=\"dataframe\">\n",
       "  <thead>\n",
       "    <tr style=\"text-align: right;\">\n",
       "      <th></th>\n",
       "      <th>date</th>\n",
       "      <th>name</th>\n",
       "      <th>continent</th>\n",
       "      <th>local_price</th>\n",
       "      <th>dollar_ex</th>\n",
       "      <th>dollar_price</th>\n",
       "      <th>USD_raw</th>\n",
       "      <th>GDP_dollar</th>\n",
       "      <th>adj_price</th>\n",
       "      <th>USD_adjusted</th>\n",
       "    </tr>\n",
       "  </thead>\n",
       "  <tbody>\n",
       "    <tr>\n",
       "      <td>1381</td>\n",
       "      <td>2020-07-01</td>\n",
       "      <td>Ukraine</td>\n",
       "      <td>Europe</td>\n",
       "      <td>59.00</td>\n",
       "      <td>27.1300</td>\n",
       "      <td>2.174714</td>\n",
       "      <td>-0.61914</td>\n",
       "      <td>NaN</td>\n",
       "      <td>NaN</td>\n",
       "      <td>NaN</td>\n",
       "    </tr>\n",
       "    <tr>\n",
       "      <td>1382</td>\n",
       "      <td>2020-07-01</td>\n",
       "      <td>Uruguay</td>\n",
       "      <td>America</td>\n",
       "      <td>189.00</td>\n",
       "      <td>43.6750</td>\n",
       "      <td>4.327418</td>\n",
       "      <td>-0.24213</td>\n",
       "      <td>NaN</td>\n",
       "      <td>NaN</td>\n",
       "      <td>NaN</td>\n",
       "    </tr>\n",
       "    <tr>\n",
       "      <td>1383</td>\n",
       "      <td>2020-07-01</td>\n",
       "      <td>United States</td>\n",
       "      <td>America</td>\n",
       "      <td>5.71</td>\n",
       "      <td>1.0000</td>\n",
       "      <td>5.710000</td>\n",
       "      <td>0.00000</td>\n",
       "      <td>62868.917</td>\n",
       "      <td>5.174502</td>\n",
       "      <td>0.000</td>\n",
       "    </tr>\n",
       "    <tr>\n",
       "      <td>1384</td>\n",
       "      <td>2020-07-01</td>\n",
       "      <td>Vietnam</td>\n",
       "      <td>Asia</td>\n",
       "      <td>66000.00</td>\n",
       "      <td>23180.0000</td>\n",
       "      <td>2.847282</td>\n",
       "      <td>-0.50135</td>\n",
       "      <td>NaN</td>\n",
       "      <td>NaN</td>\n",
       "      <td>NaN</td>\n",
       "    </tr>\n",
       "    <tr>\n",
       "      <td>1385</td>\n",
       "      <td>2020-07-01</td>\n",
       "      <td>South Africa</td>\n",
       "      <td>Africa</td>\n",
       "      <td>31.00</td>\n",
       "      <td>16.6725</td>\n",
       "      <td>1.859349</td>\n",
       "      <td>-0.67437</td>\n",
       "      <td>6353.846</td>\n",
       "      <td>2.871878</td>\n",
       "      <td>-0.413</td>\n",
       "    </tr>\n",
       "  </tbody>\n",
       "</table>\n",
       "</div>"
      ],
      "text/plain": [
       "           date           name continent  local_price   dollar_ex  \\\n",
       "1381 2020-07-01        Ukraine    Europe        59.00     27.1300   \n",
       "1382 2020-07-01        Uruguay   America       189.00     43.6750   \n",
       "1383 2020-07-01  United States   America         5.71      1.0000   \n",
       "1384 2020-07-01        Vietnam      Asia     66000.00  23180.0000   \n",
       "1385 2020-07-01   South Africa    Africa        31.00     16.6725   \n",
       "\n",
       "      dollar_price  USD_raw  GDP_dollar  adj_price  USD_adjusted  \n",
       "1381      2.174714 -0.61914         NaN        NaN           NaN  \n",
       "1382      4.327418 -0.24213         NaN        NaN           NaN  \n",
       "1383      5.710000  0.00000   62868.917   5.174502         0.000  \n",
       "1384      2.847282 -0.50135         NaN        NaN           NaN  \n",
       "1385      1.859349 -0.67437    6353.846   2.871878        -0.413  "
      ]
     },
     "execution_count": 3,
     "metadata": {},
     "output_type": "execute_result"
    }
   ],
   "source": [
    "#Formatting date\n",
    "dfbigmac['date'] = pd.to_datetime(dfbigmac['date'])\n",
    "\n",
    "#Subsetting columns\n",
    "df_light = dfbigmac[['date','name','continent','local_price','dollar_ex','dollar_price','USD_raw','GDP_dollar','adj_price','USD_adjusted']]\n",
    "\n",
    "df_light.tail()"
   ]
  },
  {
   "cell_type": "markdown",
   "metadata": {},
   "source": [
    "<a id='time_evol' />\n",
    "\n",
    "## Burgernomics across time\n",
    "[(back to top)](#jeje)"
   ]
  },
  {
   "cell_type": "markdown",
   "metadata": {},
   "source": [
    "Since April 2000, there have been 33 editions of the index. While it was usually updated at the middle of each year (with some exceptions in 2006, 2007 and 2010), from 2012 it is updated in both January and July.\n",
    "\n",
    "As it was previously said, The Economist sometimes adds or removes countries for the index. But how many haven't always been part of the index? And which ones stayed on the least?"
   ]
  },
  {
   "cell_type": "code",
   "execution_count": 4,
   "metadata": {},
   "outputs": [
    {
     "data": {
      "image/png": "[encoded data removed]",
      "text/plain": [
       "<Figure size 432x288 with 1 Axes>"
      ]
     },
     "metadata": {
      "needs_background": "light"
     },
     "output_type": "display_data"
    },
    {
     "data": {
      "text/plain": [
       "Jordan                  5\n",
       "Honduras                5\n",
       "Nicaragua               5\n",
       "United Arab Emirates    5\n",
       "Oman                    5\n",
       "Lebanon                 5\n",
       "Moldova                 5\n",
       "Guatemala               5\n",
       "Kuwait                  5\n",
       "Azerbaijan              5\n",
       "Bahrain                 5\n",
       "Croatia                 5\n",
       "Romania                 5\n",
       "Qatar                   5\n",
       "Name: name, dtype: int64"
      ]
     },
     "execution_count": 4,
     "metadata": {},
     "output_type": "execute_result"
    }
   ],
   "source": [
    "#How often do countries appear?\n",
    "appearances=df_light['name'].value_counts()\n",
    "\n",
    "#Plotting\n",
    "appearances.hist(bins=28)\n",
    "plt.xlabel('Number of appearances')\n",
    "plt.ylabel('Number of countries')\n",
    "\n",
    "plt.show()\n",
    "\n",
    "#Countries that appeared least than 10 times\n",
    "appearances[lambda x: x<=10]"
   ]
  },
  {
   "cell_type": "markdown",
   "metadata": {},
   "source": [
    "The countries that appeared the least are from the Middle East, Central America and Eastern Europe. They all were part of the index for 5 editions. Coincidence or not, they all have developing economies.\n",
    "\n",
    "This leads us to another question: How is the trend? Does the overall number of countries included in the index change over time or there is always the same number that comes and goes?"
   ]
  },
  {
   "cell_type": "code",
   "execution_count": 5,
   "metadata": {},
   "outputs": [
    {
     "data": {
      "image/png": "[encoded data removed]",
      "text/plain": [
       "<Figure size 432x288 with 1 Axes>"
      ]
     },
     "metadata": {
      "needs_background": "light"
     },
     "output_type": "display_data"
    }
   ],
   "source": [
    "#Calculating and plotting countries by edition\n",
    "df_light['date'].value_counts().plot(kind='line')\n",
    "plt.ylabel('Number of countries')\n",
    "plt.xlabel('Date')\n",
    "\n",
    "plt.show()"
   ]
  },
  {
   "cell_type": "markdown",
   "metadata": {},
   "source": [
    "We can see that there is a pattern to increase the number of countries in the index. In the last twenty years has gone from 28 to 56 countries, doubling its size.\n",
    "\n",
    "Now, what has happened with the price of the Big Mac in the US, used as a base for all the other numbers to compare? As a reference, the [American Consumer Price Index](https://www.bls.gov/data/inflation_calculator.htm) in the same period has increased a 51%."
   ]
  },
  {
   "cell_type": "code",
   "execution_count": 6,
   "metadata": {
    "scrolled": true
   },
   "outputs": [
    {
     "data": {
      "image/png": "[encoded data removed]",
      "text/plain": [
       "<Figure size 432x288 with 1 Axes>"
      ]
     },
     "metadata": {
      "needs_background": "light"
     },
     "output_type": "display_data"
    }
   ],
   "source": [
    "#Subsetting data\n",
    "df_light[df_light['name']=='United States']\n",
    "\n",
    "#Plotting price evolution\n",
    "plt.plot( 'date', 'local_price', data=df_light[df_light['name']=='United States'])\n",
    "plt.ylabel('US Big Mac price')\n",
    "plt.xlabel('Date')\n",
    "\n",
    "plt.show()"
   ]
  },
  {
   "cell_type": "markdown",
   "metadata": {},
   "source": [
    "Going from \\\\$2.51 to \\\\$5.71 the Big Mac has more than doubled its price in the US (a 127.5% increase to be precise), way more than the increase of the Consumer Price Index, which makes us [question the reliability](https://www.investopedia.com/articles/07/consumerpriceindex.asp) of the last one. Notice also that the price stayed stable in the years that followed financial crisis (the burst of the .com bubble in 2000 and the subprime mortgages in 2008).\n",
    "\n",
    "What happened with the price in the other countries? We made a ranking with the 5 countries with the highest and the lowest variations in their local currencies to get an idea."
   ]
  },
  {
   "cell_type": "code",
   "execution_count": 7,
   "metadata": {
    "scrolled": true
   },
   "outputs": [
    {
     "data": {
      "text/html": [
       "<div>\n",
       "<style scoped>\n",
       "    .dataframe tbody tr th:only-of-type {\n",
       "        vertical-align: middle;\n",
       "    }\n",
       "\n",
       "    .dataframe tbody tr th {\n",
       "        vertical-align: top;\n",
       "    }\n",
       "\n",
       "    .dataframe thead th {\n",
       "        text-align: right;\n",
       "    }\n",
       "</style>\n",
       "<table border=\"1\" class=\"dataframe\">\n",
       "  <thead>\n",
       "    <tr style=\"text-align: right;\">\n",
       "      <th></th>\n",
       "      <th>name</th>\n",
       "      <th>local_price_2000</th>\n",
       "      <th>local_price_2020</th>\n",
       "      <th>variation</th>\n",
       "    </tr>\n",
       "  </thead>\n",
       "  <tbody>\n",
       "    <tr>\n",
       "      <td>0</td>\n",
       "      <td>Argentina</td>\n",
       "      <td>2.50</td>\n",
       "      <td>250.0</td>\n",
       "      <td>99.000000</td>\n",
       "    </tr>\n",
       "    <tr>\n",
       "      <td>2</td>\n",
       "      <td>Brazil</td>\n",
       "      <td>2.95</td>\n",
       "      <td>20.9</td>\n",
       "      <td>6.084746</td>\n",
       "    </tr>\n",
       "    <tr>\n",
       "      <td>27</td>\n",
       "      <td>South Africa</td>\n",
       "      <td>9.00</td>\n",
       "      <td>31.0</td>\n",
       "      <td>2.444444</td>\n",
       "    </tr>\n",
       "    <tr>\n",
       "      <td>21</td>\n",
       "      <td>Russia</td>\n",
       "      <td>39.50</td>\n",
       "      <td>135.0</td>\n",
       "      <td>2.417722</td>\n",
       "    </tr>\n",
       "    <tr>\n",
       "      <td>12</td>\n",
       "      <td>Hungary</td>\n",
       "      <td>339.00</td>\n",
       "      <td>900.0</td>\n",
       "      <td>1.654867</td>\n",
       "    </tr>\n",
       "  </tbody>\n",
       "</table>\n",
       "</div>"
      ],
      "text/plain": [
       "            name  local_price_2000  local_price_2020  variation\n",
       "0      Argentina              2.50             250.0  99.000000\n",
       "2         Brazil              2.95              20.9   6.084746\n",
       "27  South Africa              9.00              31.0   2.444444\n",
       "21        Russia             39.50             135.0   2.417722\n",
       "12       Hungary            339.00             900.0   1.654867"
      ]
     },
     "metadata": {},
     "output_type": "display_data"
    },
    {
     "data": {
      "text/html": [
       "<div>\n",
       "<style scoped>\n",
       "    .dataframe tbody tr th:only-of-type {\n",
       "        vertical-align: middle;\n",
       "    }\n",
       "\n",
       "    .dataframe tbody tr th {\n",
       "        vertical-align: top;\n",
       "    }\n",
       "\n",
       "    .dataframe thead th {\n",
       "        text-align: right;\n",
       "    }\n",
       "</style>\n",
       "<table border=\"1\" class=\"dataframe\">\n",
       "  <thead>\n",
       "    <tr style=\"text-align: right;\">\n",
       "      <th></th>\n",
       "      <th>name</th>\n",
       "      <th>local_price_2000</th>\n",
       "      <th>local_price_2020</th>\n",
       "      <th>variation</th>\n",
       "    </tr>\n",
       "  </thead>\n",
       "  <tbody>\n",
       "    <tr>\n",
       "      <td>25</td>\n",
       "      <td>Taiwan</td>\n",
       "      <td>70.00</td>\n",
       "      <td>72.0</td>\n",
       "      <td>0.028571</td>\n",
       "    </tr>\n",
       "    <tr>\n",
       "      <td>4</td>\n",
       "      <td>Switzerland</td>\n",
       "      <td>5.90</td>\n",
       "      <td>6.5</td>\n",
       "      <td>0.101695</td>\n",
       "    </tr>\n",
       "    <tr>\n",
       "      <td>14</td>\n",
       "      <td>Israel</td>\n",
       "      <td>14.50</td>\n",
       "      <td>17.0</td>\n",
       "      <td>0.172414</td>\n",
       "    </tr>\n",
       "    <tr>\n",
       "      <td>8</td>\n",
       "      <td>Denmark</td>\n",
       "      <td>24.75</td>\n",
       "      <td>30.0</td>\n",
       "      <td>0.212121</td>\n",
       "    </tr>\n",
       "    <tr>\n",
       "      <td>15</td>\n",
       "      <td>Japan</td>\n",
       "      <td>294.00</td>\n",
       "      <td>390.0</td>\n",
       "      <td>0.326531</td>\n",
       "    </tr>\n",
       "  </tbody>\n",
       "</table>\n",
       "</div>"
      ],
      "text/plain": [
       "           name  local_price_2000  local_price_2020  variation\n",
       "25       Taiwan             70.00              72.0   0.028571\n",
       "4   Switzerland              5.90               6.5   0.101695\n",
       "14       Israel             14.50              17.0   0.172414\n",
       "8       Denmark             24.75              30.0   0.212121\n",
       "15        Japan            294.00             390.0   0.326531"
      ]
     },
     "metadata": {},
     "output_type": "display_data"
    }
   ],
   "source": [
    "#Subsetting the prices of the first and last edition\n",
    "price_first_ed = df_light[df_light['date']=='2000-04-01'][['name','local_price']]\n",
    "price_last_ed = df_light[df_light['date']=='2020-07-01'][['name','local_price']]\n",
    "\n",
    "#Merging and comparing\n",
    "prices = price_first_ed.merge(price_last_ed, how='inner', left_on='name', right_on='name', suffixes=('_2000','_2020'))\n",
    "prices['variation'] = prices['local_price_2020']/prices['local_price_2000']-1\n",
    "\n",
    "display(prices.nlargest(5, 'variation'))\n",
    "display(prices.nsmallest(5, 'variation'))"
   ]
  },
  {
   "cell_type": "markdown",
   "metadata": {},
   "source": [
    "The ranking shows us that the prices have increased in all the countries, altough in very different measures. While in countries like Israel, Switzerland and Taiwan they increased less than 20%, in Argentina the variation was of 9900%, which means that today you need 100 times the money you needed in 2000 to buy a Big Mac!\n",
    "\n",
    "Having an idea about how the index evolved over time, we will next take a look at the last edition."
   ]
  },
  {
   "cell_type": "markdown",
   "metadata": {},
   "source": [
    "<a id='present' />\n",
    "\n",
    "## Burgernomics in 2020\n",
    "[(back to top)](#content)\n",
    "\n",
    "First, we will rank the countries by the price in US dollars of the Big Mac, to see if there are any patterns."
   ]
  },
  {
   "cell_type": "code",
   "execution_count": 8,
   "metadata": {},
   "outputs": [
    {
     "data": {
      "text/html": [
       "<div>\n",
       "<style scoped>\n",
       "    .dataframe tbody tr th:only-of-type {\n",
       "        vertical-align: middle;\n",
       "    }\n",
       "\n",
       "    .dataframe tbody tr th {\n",
       "        vertical-align: top;\n",
       "    }\n",
       "\n",
       "    .dataframe thead th {\n",
       "        text-align: right;\n",
       "    }\n",
       "</style>\n",
       "<table border=\"1\" class=\"dataframe\">\n",
       "  <thead>\n",
       "    <tr style=\"text-align: right;\">\n",
       "      <th></th>\n",
       "      <th>date</th>\n",
       "      <th>name</th>\n",
       "      <th>continent</th>\n",
       "      <th>local_price</th>\n",
       "      <th>dollar_ex</th>\n",
       "      <th>dollar_price</th>\n",
       "      <th>USD_raw</th>\n",
       "      <th>GDP_dollar</th>\n",
       "      <th>adj_price</th>\n",
       "      <th>USD_adjusted</th>\n",
       "    </tr>\n",
       "  </thead>\n",
       "  <tbody>\n",
       "    <tr>\n",
       "      <td>1337</td>\n",
       "      <td>2020-07-01</td>\n",
       "      <td>Switzerland</td>\n",
       "      <td>Europe</td>\n",
       "      <td>6.50</td>\n",
       "      <td>0.94125</td>\n",
       "      <td>6.905710</td>\n",
       "      <td>0.20941</td>\n",
       "      <td>83161.895</td>\n",
       "      <td>6.001310</td>\n",
       "      <td>0.043</td>\n",
       "    </tr>\n",
       "    <tr>\n",
       "      <td>1359</td>\n",
       "      <td>2020-07-01</td>\n",
       "      <td>Lebanon</td>\n",
       "      <td>Asia</td>\n",
       "      <td>9000.00</td>\n",
       "      <td>1512.00000</td>\n",
       "      <td>5.952381</td>\n",
       "      <td>0.04245</td>\n",
       "      <td>NaN</td>\n",
       "      <td>NaN</td>\n",
       "      <td>NaN</td>\n",
       "    </tr>\n",
       "    <tr>\n",
       "      <td>1377</td>\n",
       "      <td>2020-07-01</td>\n",
       "      <td>Sweden</td>\n",
       "      <td>Europe</td>\n",
       "      <td>52.60</td>\n",
       "      <td>9.13840</td>\n",
       "      <td>5.755931</td>\n",
       "      <td>0.00804</td>\n",
       "      <td>54356.073</td>\n",
       "      <td>4.827658</td>\n",
       "      <td>0.080</td>\n",
       "    </tr>\n",
       "    <tr>\n",
       "      <td>1383</td>\n",
       "      <td>2020-07-01</td>\n",
       "      <td>United States</td>\n",
       "      <td>America</td>\n",
       "      <td>5.71</td>\n",
       "      <td>1.00000</td>\n",
       "      <td>5.710000</td>\n",
       "      <td>0.00000</td>\n",
       "      <td>62868.917</td>\n",
       "      <td>5.174502</td>\n",
       "      <td>0.000</td>\n",
       "    </tr>\n",
       "    <tr>\n",
       "      <td>1365</td>\n",
       "      <td>2020-07-01</td>\n",
       "      <td>Norway</td>\n",
       "      <td>Europe</td>\n",
       "      <td>52.00</td>\n",
       "      <td>9.37105</td>\n",
       "      <td>5.549005</td>\n",
       "      <td>-0.02820</td>\n",
       "      <td>81549.977</td>\n",
       "      <td>5.935634</td>\n",
       "      <td>-0.153</td>\n",
       "    </tr>\n",
       "  </tbody>\n",
       "</table>\n",
       "</div>"
      ],
      "text/plain": [
       "           date           name continent  local_price   dollar_ex  \\\n",
       "1337 2020-07-01    Switzerland    Europe         6.50     0.94125   \n",
       "1359 2020-07-01        Lebanon      Asia      9000.00  1512.00000   \n",
       "1377 2020-07-01         Sweden    Europe        52.60     9.13840   \n",
       "1383 2020-07-01  United States   America         5.71     1.00000   \n",
       "1365 2020-07-01         Norway    Europe        52.00     9.37105   \n",
       "\n",
       "      dollar_price  USD_raw  GDP_dollar  adj_price  USD_adjusted  \n",
       "1337      6.905710  0.20941   83161.895   6.001310         0.043  \n",
       "1359      5.952381  0.04245         NaN        NaN           NaN  \n",
       "1377      5.755931  0.00804   54356.073   4.827658         0.080  \n",
       "1383      5.710000  0.00000   62868.917   5.174502         0.000  \n",
       "1365      5.549005 -0.02820   81549.977   5.935634        -0.153  "
      ]
     },
     "metadata": {},
     "output_type": "display_data"
    },
    {
     "data": {
      "text/html": [
       "<div>\n",
       "<style scoped>\n",
       "    .dataframe tbody tr th:only-of-type {\n",
       "        vertical-align: middle;\n",
       "    }\n",
       "\n",
       "    .dataframe tbody tr th {\n",
       "        vertical-align: top;\n",
       "    }\n",
       "\n",
       "    .dataframe thead th {\n",
       "        text-align: right;\n",
       "    }\n",
       "</style>\n",
       "<table border=\"1\" class=\"dataframe\">\n",
       "  <thead>\n",
       "    <tr style=\"text-align: right;\">\n",
       "      <th></th>\n",
       "      <th>date</th>\n",
       "      <th>name</th>\n",
       "      <th>continent</th>\n",
       "      <th>local_price</th>\n",
       "      <th>dollar_ex</th>\n",
       "      <th>dollar_price</th>\n",
       "      <th>USD_raw</th>\n",
       "      <th>GDP_dollar</th>\n",
       "      <th>adj_price</th>\n",
       "      <th>USD_adjusted</th>\n",
       "    </tr>\n",
       "  </thead>\n",
       "  <tbody>\n",
       "    <tr>\n",
       "      <td>1385</td>\n",
       "      <td>2020-07-01</td>\n",
       "      <td>South Africa</td>\n",
       "      <td>Africa</td>\n",
       "      <td>31.00</td>\n",
       "      <td>16.6725</td>\n",
       "      <td>1.859349</td>\n",
       "      <td>-0.67437</td>\n",
       "      <td>6353.846</td>\n",
       "      <td>2.871878</td>\n",
       "      <td>-0.413</td>\n",
       "    </tr>\n",
       "    <tr>\n",
       "      <td>1374</td>\n",
       "      <td>2020-07-01</td>\n",
       "      <td>Russia</td>\n",
       "      <td>Asia</td>\n",
       "      <td>135.00</td>\n",
       "      <td>70.5850</td>\n",
       "      <td>1.912588</td>\n",
       "      <td>-0.66505</td>\n",
       "      <td>11289.439</td>\n",
       "      <td>3.072971</td>\n",
       "      <td>-0.436</td>\n",
       "    </tr>\n",
       "    <tr>\n",
       "      <td>1379</td>\n",
       "      <td>2020-07-01</td>\n",
       "      <td>Turkey</td>\n",
       "      <td>Asia</td>\n",
       "      <td>13.99</td>\n",
       "      <td>6.8595</td>\n",
       "      <td>2.039507</td>\n",
       "      <td>-0.64282</td>\n",
       "      <td>9405.321</td>\n",
       "      <td>2.996206</td>\n",
       "      <td>-0.383</td>\n",
       "    </tr>\n",
       "    <tr>\n",
       "      <td>1381</td>\n",
       "      <td>2020-07-01</td>\n",
       "      <td>Ukraine</td>\n",
       "      <td>Europe</td>\n",
       "      <td>59.00</td>\n",
       "      <td>27.1300</td>\n",
       "      <td>2.174714</td>\n",
       "      <td>-0.61914</td>\n",
       "      <td>NaN</td>\n",
       "      <td>NaN</td>\n",
       "      <td>NaN</td>\n",
       "    </tr>\n",
       "    <tr>\n",
       "      <td>1362</td>\n",
       "      <td>2020-07-01</td>\n",
       "      <td>Mexico</td>\n",
       "      <td>America</td>\n",
       "      <td>50.00</td>\n",
       "      <td>22.4360</td>\n",
       "      <td>2.228561</td>\n",
       "      <td>-0.60971</td>\n",
       "      <td>9796.976</td>\n",
       "      <td>3.012163</td>\n",
       "      <td>-0.330</td>\n",
       "    </tr>\n",
       "  </tbody>\n",
       "</table>\n",
       "</div>"
      ],
      "text/plain": [
       "           date          name continent  local_price  dollar_ex  dollar_price  \\\n",
       "1385 2020-07-01  South Africa    Africa        31.00    16.6725      1.859349   \n",
       "1374 2020-07-01        Russia      Asia       135.00    70.5850      1.912588   \n",
       "1379 2020-07-01        Turkey      Asia        13.99     6.8595      2.039507   \n",
       "1381 2020-07-01       Ukraine    Europe        59.00    27.1300      2.174714   \n",
       "1362 2020-07-01        Mexico   America        50.00    22.4360      2.228561   \n",
       "\n",
       "      USD_raw  GDP_dollar  adj_price  USD_adjusted  \n",
       "1385 -0.67437    6353.846   2.871878        -0.413  \n",
       "1374 -0.66505   11289.439   3.072971        -0.436  \n",
       "1379 -0.64282    9405.321   2.996206        -0.383  \n",
       "1381 -0.61914         NaN        NaN           NaN  \n",
       "1362 -0.60971    9796.976   3.012163        -0.330  "
      ]
     },
     "metadata": {},
     "output_type": "display_data"
    }
   ],
   "source": [
    "#Subsetting last edition\n",
    "last_ed=df_light[df_light['date']=='2020-07-01']\n",
    "\n",
    "display(last_ed.nlargest(5, 'dollar_price'))\n",
    "display(last_ed.nsmallest(5, 'dollar_price'))"
   ]
  },
  {
   "cell_type": "markdown",
   "metadata": {},
   "source": [
    "There is a big difference between the top and the bottom of the ranking. A Big Mac in Switzerland costs up to 3.7 times more than in South Africa. We see that all the countries in the top of the list (except for Lebanon) are countries with a high GDP per capita, while the ones in the bottom have a low GDP.\n",
    "\n",
    "To check if there is a correlation between the GDP per capita and the price of the Big Mac we are going to use a scatter plot."
   ]
  },
  {
   "cell_type": "code",
   "execution_count": 9,
   "metadata": {
    "scrolled": true
   },
   "outputs": [
    {
     "data": {
      "image/png": "[encoded data removed]",
      "text/plain": [
       "<Figure size 432x288 with 1 Axes>"
      ]
     },
     "metadata": {
      "needs_background": "light"
     },
     "output_type": "display_data"
    }
   ],
   "source": [
    "#Scatterplot for GDP per capita and Big Mac price in US dollars\n",
    "sns.scatterplot(data=last_ed, x='GDP_dollar', y='dollar_price', hue='continent')\n",
    "plt.xlabel('GDP Per Capita')\n",
    "plt.ylabel('Big Mac Price')\n",
    "\n",
    "plt.show()"
   ]
  },
  {
   "cell_type": "markdown",
   "metadata": {},
   "source": [
    "There is a clear correlation between the two variables. This makes sense, you would expect average burger prices to be cheaper in poor countries than in rich ones because costs such as rent and worker’s wages are lower. To address this issue The Economist created an adjusted index, by using a linear regression of GDP vs Big Mac Price.\n",
    "\n",
    "We will compare both versions to see how the correction affects the ranking."
   ]
  },
  {
   "cell_type": "code",
   "execution_count": 10,
   "metadata": {},
   "outputs": [
    {
     "data": {
      "image/png": "[encoded data removed]",
      "text/plain": [
       "<Figure size 576x576 with 1 Axes>"
      ]
     },
     "metadata": {
      "needs_background": "light"
     },
     "output_type": "display_data"
    }
   ],
   "source": [
    "#Filtering countries with no GDP data and ordering by raw index\n",
    "last_ed_gdp=last_ed.dropna().sort_values(by='USD_raw')\n",
    "my_range=range(1,len(last_ed_gdp.index)+1)\n",
    "\n",
    "#Color palette\n",
    "my_color=np.where(last_ed_gdp['continent']=='Asia', '#1f77b4',\n",
    "                  np.where(last_ed_gdp['continent']=='America','#ff7f0e',\n",
    "                          np.where(last_ed_gdp['continent']=='Europe','#2ca02c','#d62728')))\n",
    " \n",
    "#Lollipop plot\n",
    "plt.figure(figsize=(8,8))\n",
    "plt.hlines(y=my_range, xmin=0, xmax=last_ed_gdp['USD_raw'], color=my_color, alpha=0.4)\n",
    "plt.scatter(last_ed_gdp['USD_raw'], my_range, color=my_color, alpha=1)\n",
    " \n",
    "#Title and exis names\n",
    "plt.yticks(my_range, last_ed_gdp['name'])\n",
    "plt.title(\"Big Mac Index - Raw version\")\n",
    "plt.xlabel('Difference against US dollar')\n",
    "plt.ylabel('Countries')\n",
    "\n",
    "plt.show()"
   ]
  },
  {
   "cell_type": "code",
   "execution_count": 11,
   "metadata": {},
   "outputs": [
    {
     "data": {
      "image/png": "[encoded data removed]",
      "text/plain": [
       "<Figure size 576x576 with 1 Axes>"
      ]
     },
     "metadata": {
      "needs_background": "light"
     },
     "output_type": "display_data"
    }
   ],
   "source": [
    "#Filtering countries with no GDP data and ordering by adjusted index\n",
    "last_ed_gdp=last_ed.dropna().sort_values(by='USD_adjusted')\n",
    "my_range=range(1,len(last_ed_gdp.index)+1)\n",
    "\n",
    "#Color palette\n",
    "my_color=np.where(last_ed_gdp['continent']=='Asia', '#1f77b4',\n",
    "                  np.where(last_ed_gdp['continent']=='America','#ff7f0e',\n",
    "                          np.where(last_ed_gdp['continent']=='Europe','#2ca02c','#d62728')))\n",
    " \n",
    "#Lollipop plot\n",
    "plt.figure(figsize=(8,8))\n",
    "plt.hlines(y=my_range, xmin=0, xmax=last_ed_gdp['USD_adjusted'], color=my_color, alpha=0.4)\n",
    "plt.scatter(last_ed_gdp['USD_adjusted'], my_range, color=my_color, alpha=1)\n",
    " \n",
    "#Title and exis names\n",
    "plt.yticks(my_range, last_ed_gdp['name'])\n",
    "plt.title(\"Big Mac Index - Adjusted version\")\n",
    "plt.xlabel('Difference against US dollar')\n",
    "plt.ylabel('Countries')\n",
    "\n",
    "plt.show()"
   ]
  },
  {
   "cell_type": "markdown",
   "metadata": {},
   "source": [
    "There clearly is a difference when adjusting the index to GDP. "
   ]
  },
  {
   "cell_type": "markdown",
   "metadata": {},
   "source": [
    "<a id='volatility' />\n",
    "\n",
    "## Bonus track: currency volatility\n",
    "[(back to top)](#content)\n",
    "\n",
    "While the main objective of the Big Mac Index is to determine wheter a country's currency is too cheap or too expensive, the data can be used to draw alternative insights. For example, the volatility of a country's exchange rate.\n",
    "\n",
    "What is the relevance of this indicator? Let's put it this way: Foreign investors inevitably seek out stable countries with strong economic performance in which to invest their capital. A country with such positive attributes will draw investment funds away from other countries perceived to have more political and economic risk.\n",
    "\n",
    "By analyzing the standard deviation of each country's adjusted index along time we can determine how stable are their exchange rates."
   ]
  },
  {
   "cell_type": "code",
   "execution_count": 12,
   "metadata": {},
   "outputs": [
    {
     "name": "stdout",
     "output_type": "stream",
     "text": [
      "The average standard deviation is 0.15\n"
     ]
    },
    {
     "data": {
      "text/plain": [
       "name\n",
       "Argentina         0.36\n",
       "Turkey            0.35\n",
       "Colombia          0.35\n",
       "Brazil            0.33\n",
       "Sweden            0.20\n",
       "Hungary           0.20\n",
       "Peru              0.19\n",
       "Chile             0.19\n",
       "Norway            0.18\n",
       "Russia            0.17\n",
       "Philippines       0.17\n",
       "Egypt             0.16\n",
       "Switzerland       0.16\n",
       "Czech Republic    0.15\n",
       "South Africa      0.15\n",
       "Name: USD_adjusted, dtype: float64"
      ]
     },
     "execution_count": 12,
     "metadata": {},
     "output_type": "execute_result"
    }
   ],
   "source": [
    "#Obtaining the standard deviation for each country in the adjusted index\n",
    "variation=df_light.dropna().groupby('name')['USD_adjusted'].std()\n",
    "\n",
    "#Sorting and rounding the list\n",
    "variation=round(variation.sort_values(ascending=False),2)\n",
    "\n",
    "#Mean standard devation and countries above the average\n",
    "print('The average standard deviation is', round(variation.mean(), 2))\n",
    "variation[variation>variation.mean()]"
   ]
  },
  {
   "cell_type": "markdown",
   "metadata": {},
   "source": [
    "There are 15 out of 37 countries with a standard deviation above average. But only 4 really stand out: Argentina, Turkey, Colombia and Brazil. The common denominator is that they all are developing economies (and 3 of them are from South America). \n",
    "\n",
    "We will plot the evolution of each country's index in order to see if they have simmilar trends."
   ]
  },
  {
   "cell_type": "code",
   "execution_count": 13,
   "metadata": {},
   "outputs": [
    {
     "data": {
      "image/png": "[encoded data removed]",
      "text/plain": [
       "<Figure size 1440x360 with 4 Axes>"
      ]
     },
     "metadata": {
      "needs_background": "light"
     },
     "output_type": "display_data"
    }
   ],
   "source": [
    "#Subsetting high variation countries\n",
    "unstable_countries=df_light[df_light['name'].isin(['Argentina','Turkey','Colombia','Brazil'])].dropna()\n",
    "\n",
    "#Line plot with country faceting\n",
    "index_evol=sns.relplot(x='date', y='USD_adjusted', data=unstable_countries, kind='line', col='name')\n",
    "\n",
    "#Horizontal lines\n",
    "for ax in index_evol.axes.flat:\n",
    "    ax.axhline(0, color='red')\n",
    "\n",
    "plt.show()"
   ]
  },
  {
   "cell_type": "markdown",
   "metadata": {},
   "source": [
    "The index for the South American countries have a simmilar trend: They were quite overvaluated at the beggining of the decade, started decreasing until 2016, then increased until 2018 and fell again (although Argentina's index has been increasing since 2019). In the same period, Turkey's currency has been steadily depreciating."
   ]
  }
 ],
 "metadata": {
  "kernelspec": {
   "display_name": "Python 3",
   "language": "python",
   "name": "python3"
  },
  "language_info": {
   "codemirror_mode": {
    "name": "ipython",
    "version": 3
   },
   "file_extension": ".py",
   "mimetype": "text/x-python",
   "name": "python",
   "nbconvert_exporter": "python",
   "pygments_lexer": "ipython3",
   "version": "3.8.3"
  }
 },
 "nbformat": 4,
 "nbformat_minor": 4
}
